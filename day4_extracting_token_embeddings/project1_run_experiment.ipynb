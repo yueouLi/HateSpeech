{
 "cells": [
  {
   "cell_type": "markdown",
   "metadata": {},
   "source": [
    "## Hate Sense Classification "
   ]
  },
  {
   "cell_type": "code",
   "execution_count": 1,
   "metadata": {},
   "outputs": [
    {
     "name": "stderr",
     "output_type": "stream",
     "text": [
      "/Users/ozgealacam/Library/CloudStorage/OneDrive-Personal/00_LMU/HateSpeech23_24/lecture_content/.venv/lib/python3.9/site-packages/urllib3/__init__.py:35: NotOpenSSLWarning: urllib3 v2 only supports OpenSSL 1.1.1+, currently the 'ssl' module is compiled with 'LibreSSL 2.8.3'. See: https://github.com/urllib3/urllib3/issues/3020\n",
      "  warnings.warn(\n"
     ]
    }
   ],
   "source": [
    "# Import necessary libraries\n",
    "import torch, re\n",
    "import pandas as pd\n",
    "from transformers import AutoTokenizer, AutoModel, AutoModelForSequenceClassification\n",
    "\n",
    "from tqdm import tqdm\n",
    "from difflib import get_close_matches\n",
    "import torch.nn as nn\n",
    "import torch.optim as optim"
   ]
  },
  {
   "cell_type": "code",
   "execution_count": 17,
   "metadata": {},
   "outputs": [],
   "source": [
    "\n",
    "from sklearn.neural_network import MLPClassifier\n",
    "from sklearn.datasets import load_breast_cancer\n",
    "from sklearn.model_selection import train_test_split\n",
    "from sklearn.preprocessing import StandardScaler\n",
    "from sklearn.metrics import accuracy_score, classification_report, confusion_matrix\n",
    "import seaborn as sns\n",
    "import numpy as np\n",
    "import matplotlib.pyplot as plt"
   ]
  },
  {
   "cell_type": "code",
   "execution_count": 3,
   "metadata": {},
   "outputs": [],
   "source": [
    "#!pip install openpyxl"
   ]
  },
  {
   "cell_type": "code",
   "execution_count": 18,
   "metadata": {},
   "outputs": [],
   "source": [
    "train_data_path = '../Project1_HateSenseClassification/TESTannotation_sample_1.xlsx' \n",
    "test_data_path = '../Project1_HateSenseClassification/TESTannotation_sample_7.xlsx' \n",
    "\n",
    "## here is 50-50 train and test ratio which is not the usual case. \n",
    "# 80-20 (train-test) or (80-10-10) (train-validation-test) set options are more reasonable. \n",
    "# so you can merge two dataframe, and use sklearn.train_test_split function for better ratio.\n",
    "# https://scikit-learn.org/stable/modules/generated/sklearn.model_selection.train_test_split.html "
   ]
  },
  {
   "cell_type": "markdown",
   "metadata": {},
   "source": [
    "Loading the data into Pandas DataFrames"
   ]
  },
  {
   "cell_type": "code",
   "execution_count": 19,
   "metadata": {},
   "outputs": [],
   "source": [
    "train_df = pd.read_excel(train_data_path, 'data')\n",
    "test_df = pd.read_excel(test_data_path, 'data')\n",
    "\n",
    "## Notice that annotations are not gold annotation, collected from only one annotator, so not reliable!"
   ]
  },
  {
   "cell_type": "code",
   "execution_count": 20,
   "metadata": {},
   "outputs": [
    {
     "data": {
      "text/html": [
       "<div>\n",
       "<style scoped>\n",
       "    .dataframe tbody tr th:only-of-type {\n",
       "        vertical-align: middle;\n",
       "    }\n",
       "\n",
       "    .dataframe tbody tr th {\n",
       "        vertical-align: top;\n",
       "    }\n",
       "\n",
       "    .dataframe thead th {\n",
       "        text-align: right;\n",
       "    }\n",
       "</style>\n",
       "<table border=\"1\" class=\"dataframe\">\n",
       "  <thead>\n",
       "    <tr style=\"text-align: right;\">\n",
       "      <th></th>\n",
       "      <th>id</th>\n",
       "      <th>example</th>\n",
       "      <th>term</th>\n",
       "      <th>pos</th>\n",
       "      <th>sense_id</th>\n",
       "      <th>definition</th>\n",
       "      <th>ANNOTATION</th>\n",
       "      <th>DEFICIENT SENTENCE</th>\n",
       "    </tr>\n",
       "  </thead>\n",
       "  <tbody>\n",
       "    <tr>\n",
       "      <th>0</th>\n",
       "      <td>1466</td>\n",
       "      <td>So I took the gun and went up a piece into the...</td>\n",
       "      <td>fellow</td>\n",
       "      <td>noun</td>\n",
       "      <td>8</td>\n",
       "      <td>An animal or object.</td>\n",
       "      <td>1</td>\n",
       "      <td>NaN</td>\n",
       "    </tr>\n",
       "    <tr>\n",
       "      <th>1</th>\n",
       "      <td>3462</td>\n",
       "      <td>The Canada West Foundation dismisses these con...</td>\n",
       "      <td>scarecrow</td>\n",
       "      <td>noun</td>\n",
       "      <td>4</td>\n",
       "      <td>Anything that appears terrifying but presents ...</td>\n",
       "      <td>1</td>\n",
       "      <td>NaN</td>\n",
       "    </tr>\n",
       "    <tr>\n",
       "      <th>2</th>\n",
       "      <td>2427</td>\n",
       "      <td>“I'm not a lot lizard,” I say. “I'm just passi...</td>\n",
       "      <td>lot lizard</td>\n",
       "      <td>noun</td>\n",
       "      <td>1</td>\n",
       "      <td>A prostitute at a truck stop.</td>\n",
       "      <td>1</td>\n",
       "      <td>NaN</td>\n",
       "    </tr>\n",
       "    <tr>\n",
       "      <th>3</th>\n",
       "      <td>4453</td>\n",
       "      <td>Don't you interrupt me, you vagina! I was givi...</td>\n",
       "      <td>vagina</td>\n",
       "      <td>noun</td>\n",
       "      <td>4</td>\n",
       "      <td>A coward; a weakling; a pussy.</td>\n",
       "      <td>1</td>\n",
       "      <td>NaN</td>\n",
       "    </tr>\n",
       "    <tr>\n",
       "      <th>4</th>\n",
       "      <td>4658</td>\n",
       "      <td>It would reinforce the division of the world i...</td>\n",
       "      <td>yoghurt-knitter</td>\n",
       "      <td>noun</td>\n",
       "      <td>1</td>\n",
       "      <td>A left-wing, environmentalist or hippie person.</td>\n",
       "      <td>1</td>\n",
       "      <td>NaN</td>\n",
       "    </tr>\n",
       "    <tr>\n",
       "      <th>...</th>\n",
       "      <td>...</td>\n",
       "      <td>...</td>\n",
       "      <td>...</td>\n",
       "      <td>...</td>\n",
       "      <td>...</td>\n",
       "      <td>...</td>\n",
       "      <td>...</td>\n",
       "      <td>...</td>\n",
       "    </tr>\n",
       "    <tr>\n",
       "      <th>495</th>\n",
       "      <td>4229</td>\n",
       "      <td>Now if you can shew so neat a foot,  —Parlez m...</td>\n",
       "      <td>tit</td>\n",
       "      <td>noun</td>\n",
       "      <td>10</td>\n",
       "      <td>A morsel; a bit.</td>\n",
       "      <td>1</td>\n",
       "      <td>NaN</td>\n",
       "    </tr>\n",
       "    <tr>\n",
       "      <th>496</th>\n",
       "      <td>3952</td>\n",
       "      <td>She said: Wow! What a square! Don't you dig th...</td>\n",
       "      <td>square</td>\n",
       "      <td>noun</td>\n",
       "      <td>7</td>\n",
       "      <td>A socially conventional or conservative person...</td>\n",
       "      <td>1</td>\n",
       "      <td>NaN</td>\n",
       "    </tr>\n",
       "    <tr>\n",
       "      <th>497</th>\n",
       "      <td>1229</td>\n",
       "      <td>[T]hey are vp already, and cal for Egges and b...</td>\n",
       "      <td>egg</td>\n",
       "      <td>noun</td>\n",
       "      <td>1</td>\n",
       "      <td>An approximately spherical or ellipsoidal body...</td>\n",
       "      <td>1</td>\n",
       "      <td>NaN</td>\n",
       "    </tr>\n",
       "    <tr>\n",
       "      <th>498</th>\n",
       "      <td>2667</td>\n",
       "      <td>Nanny Broome was looking up at the outer wall....</td>\n",
       "      <td>nanny</td>\n",
       "      <td>noun</td>\n",
       "      <td>1</td>\n",
       "      <td>A child's nurse.</td>\n",
       "      <td>1</td>\n",
       "      <td>NaN</td>\n",
       "    </tr>\n",
       "    <tr>\n",
       "      <th>499</th>\n",
       "      <td>126</td>\n",
       "      <td>And they [wrestling fans] identified with the ...</td>\n",
       "      <td>baby face</td>\n",
       "      <td>noun</td>\n",
       "      <td>3</td>\n",
       "      <td>A headlining wrestler with a persona embodying...</td>\n",
       "      <td>1</td>\n",
       "      <td>NaN</td>\n",
       "    </tr>\n",
       "  </tbody>\n",
       "</table>\n",
       "<p>500 rows × 8 columns</p>\n",
       "</div>"
      ],
      "text/plain": [
       "       id                                            example             term  \\\n",
       "0    1466  So I took the gun and went up a piece into the...           fellow   \n",
       "1    3462  The Canada West Foundation dismisses these con...        scarecrow   \n",
       "2    2427  “I'm not a lot lizard,” I say. “I'm just passi...       lot lizard   \n",
       "3    4453  Don't you interrupt me, you vagina! I was givi...           vagina   \n",
       "4    4658  It would reinforce the division of the world i...  yoghurt-knitter   \n",
       "..    ...                                                ...              ...   \n",
       "495  4229  Now if you can shew so neat a foot,  —Parlez m...              tit   \n",
       "496  3952  She said: Wow! What a square! Don't you dig th...           square   \n",
       "497  1229  [T]hey are vp already, and cal for Egges and b...              egg   \n",
       "498  2667  Nanny Broome was looking up at the outer wall....            nanny   \n",
       "499   126  And they [wrestling fans] identified with the ...        baby face   \n",
       "\n",
       "      pos  sense_id                                         definition  \\\n",
       "0    noun         8                               An animal or object.   \n",
       "1    noun         4  Anything that appears terrifying but presents ...   \n",
       "2    noun         1                      A prostitute at a truck stop.   \n",
       "3    noun         4                     A coward; a weakling; a pussy.   \n",
       "4    noun         1    A left-wing, environmentalist or hippie person.   \n",
       "..    ...       ...                                                ...   \n",
       "495  noun        10                                   A morsel; a bit.   \n",
       "496  noun         7  A socially conventional or conservative person...   \n",
       "497  noun         1  An approximately spherical or ellipsoidal body...   \n",
       "498  noun         1                                   A child's nurse.   \n",
       "499  noun         3  A headlining wrestler with a persona embodying...   \n",
       "\n",
       "    ANNOTATION  DEFICIENT SENTENCE  \n",
       "0            1                 NaN  \n",
       "1            1                 NaN  \n",
       "2            1                 NaN  \n",
       "3            1                 NaN  \n",
       "4            1                 NaN  \n",
       "..         ...                 ...  \n",
       "495          1                 NaN  \n",
       "496          1                 NaN  \n",
       "497          1                 NaN  \n",
       "498          1                 NaN  \n",
       "499          1                 NaN  \n",
       "\n",
       "[500 rows x 8 columns]"
      ]
     },
     "execution_count": 20,
     "metadata": {},
     "output_type": "execute_result"
    }
   ],
   "source": [
    "train_df"
   ]
  },
  {
   "cell_type": "markdown",
   "metadata": {},
   "source": [
    "Functions needed to get embeddings from a BERT model"
   ]
  },
  {
   "cell_type": "code",
   "execution_count": 21,
   "metadata": {},
   "outputs": [],
   "source": [
    "def find_target_indices(tknzr, example, term):\n",
    "            \n",
    "    # encode the sentence (example) and target term\n",
    "    example_encoding = tknzr.encode(example, truncation=True)\n",
    "    term_encoding = tknzr.encode(term, add_special_tokens=False)\n",
    "    \n",
    "    # find indices for target term in the sentence (onset and offsets)\n",
    "    term_indices = None\n",
    "    for i in range(len(example_encoding)):\n",
    "        if example_encoding[i:i+len(term_encoding)] == term_encoding:\n",
    "            term_indices = (i, i+len(term_encoding))\n",
    "    \n",
    "    ## if the wordform is different than the lemma form:\n",
    "    if not term_indices:\n",
    "        new_term = None\n",
    "        new_example = None\n",
    "        \n",
    "        # try plural (simple rules)\n",
    "        if term + 's' in example:\n",
    "            new_term = term + 's'\n",
    "        elif term.replace('y', 'ies') in example:\n",
    "            new_term = term.replace('y', 'ies')\n",
    "        elif term.replace('man', 'men') in example:\n",
    "            new_term = term.replace('man', 'men')\n",
    "        else:\n",
    "            # try to find the most similar word in the example\n",
    "            potential_target = get_close_matches(term, example.split(), n=1, cutoff=0.6)\n",
    "            if len(potential_target) == 1:\n",
    "                most_similar = re.sub(r'[^\\w\\s-]','', potential_target[0])\n",
    "                # replace the most similar word (for which we assume misspelling) with the target term\n",
    "                new_example = example.replace(most_similar, term)\n",
    "        \n",
    "        if new_term or new_example:\n",
    "            # encode new term or example\n",
    "            if new_term:\n",
    "                term_encoding = tknzr.encode(new_term, add_special_tokens=False)\n",
    "            elif new_example:\n",
    "                example_encoding = tknzr.encode(new_example, truncation=True)\n",
    "            # try finding indices again\n",
    "            for i in range(len(example_encoding)):\n",
    "                if example_encoding[i:i+len(term_encoding)] == term_encoding:\n",
    "                    term_indices = (i, i+len(term_encoding))\n",
    "    \n",
    "    #return the indices of the target term\n",
    "    return term_indices"
   ]
  },
  {
   "cell_type": "code",
   "execution_count": 22,
   "metadata": {},
   "outputs": [],
   "source": [
    "def extract_embedding(model, example_encoding, term_indices, layers):\n",
    "    \n",
    "    # feed example encodings to the model    \n",
    "    input_ids = torch.tensor([example_encoding])\n",
    "    encoded_layers = model(input_ids)[-1]\n",
    "    \n",
    "    # extract selection of hidden layer(s)\n",
    "    ## if you do not specifically choose a layer or list of layers, mean of all layers will be returned\n",
    "    if type(layers) == int:\n",
    "        vecs = encoded_layers[layers].squeeze(0)\n",
    "    elif type(layers) == list:\n",
    "        selected_encoded_layers = [encoded_layers[x] for x in layers]\n",
    "        vecs = torch.mean(torch.stack(selected_encoded_layers), 0).squeeze(0)\n",
    "    elif layers == 'all':\n",
    "        ### you can print the shapes of the \n",
    "        #print('The shape of encoded layers: ', len(encoded_layers)) ## 12 bert-base layers + 1 hidden states\n",
    "        #print('The shape of encoded layers: ', len(encoded_layers[0])) # batch size , since we only sent one sentence at a time, it is 1\n",
    "        #print('The shape of encoded layers: ', len(encoded_layers[0][0])) # max token count\n",
    "        #print('The shape of encoded layers: ', len(encoded_layers[0][0][0])) # hidden size\n",
    "        vecs = torch.mean(torch.stack(encoded_layers), 0).squeeze(0)\n",
    "    # target word selection \n",
    "    vecs = vecs.detach()\n",
    "    #onset and ofset of the term indices\n",
    "    start_idx, end_idx = term_indices\n",
    "    #extract the embeddings of the term from the list of all token embeddings \n",
    "    term_vecs = vecs[start_idx:end_idx]\n",
    "    ### as you could see depending on the number of subtoken  that forms the term, the size differs \n",
    "    #print('shape of the term embedding ', term_vecs.shape)\n",
    "    \n",
    "    # aggregate sub-word embeddings (by averaging)\n",
    "    term_vector = torch.mean(term_vecs, 0)\n",
    "    \n",
    "    return term_vector"
   ]
  },
  {
   "cell_type": "code",
   "execution_count": 23,
   "metadata": {},
   "outputs": [],
   "source": [
    "def get_embeddings(df, tknzr, model, layers='all'):\n",
    "    \n",
    "    non_exact_matches = [] \n",
    "    embeddings = dict()\n",
    "    \n",
    "    # itereate over the sentences in the df\n",
    "    for _, row in tqdm(df.iterrows()):\n",
    "        example = row['example'].lower() \n",
    "        ## find the onset and offset indices of the target term in the sentence\n",
    "        #print('processing the term: ', row['term'].lower())\n",
    "        term_indices = find_target_indices(tknzr, example, row['term'].lower())     \n",
    "        if term_indices:\n",
    "            # extract embedding\n",
    "            example_encoding = tknzr.encode(example, truncation=True)\n",
    "            \n",
    "            ## get the token embedding for the term\n",
    "            vector = extract_embedding(model, example_encoding, term_indices, layers=layers)\n",
    "            ## write it to a dictionary for later use\n",
    "            embeddings[row['id']] = vector\n",
    "        else:\n",
    "            non_exact_matches.append(row['id'])\n",
    "    \n",
    "    print(\"Number of examples without target term matches (and therefore excluded):\", len(non_exact_matches))\n",
    "    \n",
    "    return embeddings"
   ]
  },
  {
   "cell_type": "markdown",
   "metadata": {},
   "source": [
    "Extraction of embeddings"
   ]
  },
  {
   "cell_type": "code",
   "execution_count": 26,
   "metadata": {},
   "outputs": [
    {
     "data": {
      "application/vnd.jupyter.widget-view+json": {
       "model_id": "44d75bea77984d3e82cbd0609944fa8f",
       "version_major": 2,
       "version_minor": 0
      },
      "text/plain": [
       "tokenizer_config.json:   0%|          | 0.00/386 [00:00<?, ?B/s]"
      ]
     },
     "metadata": {},
     "output_type": "display_data"
    },
    {
     "data": {
      "application/vnd.jupyter.widget-view+json": {
       "model_id": "c40facc333c6425f94907bbfa10f3c5e",
       "version_major": 2,
       "version_minor": 0
      },
      "text/plain": [
       "vocab.json:   0%|          | 0.00/798k [00:00<?, ?B/s]"
      ]
     },
     "metadata": {},
     "output_type": "display_data"
    },
    {
     "data": {
      "application/vnd.jupyter.widget-view+json": {
       "model_id": "f2bf65886a854223ad0827c486344b6f",
       "version_major": 2,
       "version_minor": 0
      },
      "text/plain": [
       "merges.txt:   0%|          | 0.00/456k [00:00<?, ?B/s]"
      ]
     },
     "metadata": {},
     "output_type": "display_data"
    },
    {
     "data": {
      "application/vnd.jupyter.widget-view+json": {
       "model_id": "927426c1484d422b9aa5d9140eec8972",
       "version_major": 2,
       "version_minor": 0
      },
      "text/plain": [
       "tokenizer.json:   0%|          | 0.00/2.11M [00:00<?, ?B/s]"
      ]
     },
     "metadata": {},
     "output_type": "display_data"
    },
    {
     "data": {
      "application/vnd.jupyter.widget-view+json": {
       "model_id": "a7ffce0be3464200b1b3258d0f56c6bf",
       "version_major": 2,
       "version_minor": 0
      },
      "text/plain": [
       "special_tokens_map.json:   0%|          | 0.00/280 [00:00<?, ?B/s]"
      ]
     },
     "metadata": {},
     "output_type": "display_data"
    },
    {
     "data": {
      "application/vnd.jupyter.widget-view+json": {
       "model_id": "4927bfa5cdc5413f9c1d95ec0416a993",
       "version_major": 2,
       "version_minor": 0
      },
      "text/plain": [
       "config.json:   0%|          | 0.00/924 [00:00<?, ?B/s]"
      ]
     },
     "metadata": {},
     "output_type": "display_data"
    },
    {
     "data": {
      "application/vnd.jupyter.widget-view+json": {
       "model_id": "07b36544c45941dcbac5e1f6e3018241",
       "version_major": 2,
       "version_minor": 0
      },
      "text/plain": [
       "pytorch_model.bin:   0%|          | 0.00/329M [00:00<?, ?B/s]"
      ]
     },
     "metadata": {},
     "output_type": "display_data"
    },
    {
     "name": "stderr",
     "output_type": "stream",
     "text": [
      "0it [00:00, ?it/s]\n"
     ]
    },
    {
     "ename": "TypeError",
     "evalue": "stack(): argument 'tensors' (position 1) must be tuple of Tensors, not Tensor",
     "output_type": "error",
     "traceback": [
      "\u001b[0;31m---------------------------------------------------------------------------\u001b[0m",
      "\u001b[0;31mTypeError\u001b[0m                                 Traceback (most recent call last)",
      "Cell \u001b[0;32mIn[26], line 28\u001b[0m\n\u001b[1;32m     22\u001b[0m model\u001b[38;5;241m.\u001b[39meval()\n\u001b[1;32m     24\u001b[0m \u001b[38;5;66;03m#tknzr = AutoTokenizer.from_pretrained(model_name)\u001b[39;00m\n\u001b[1;32m     25\u001b[0m \u001b[38;5;66;03m#model = AutoModel.from_pretrained(model_name, output_hidden_states=True)\u001b[39;00m\n\u001b[0;32m---> 28\u001b[0m train_id2embedding \u001b[38;5;241m=\u001b[39m \u001b[43mget_embeddings\u001b[49m\u001b[43m(\u001b[49m\u001b[43mtrain_df\u001b[49m\u001b[43m,\u001b[49m\u001b[43m \u001b[49m\u001b[43mtknzr\u001b[49m\u001b[43m,\u001b[49m\u001b[43m \u001b[49m\u001b[43mmodel\u001b[49m\u001b[43m)\u001b[49m\n\u001b[1;32m     29\u001b[0m test_id2embedding \u001b[38;5;241m=\u001b[39m get_embeddings(test_df, tknzr, model)\n",
      "Cell \u001b[0;32mIn[23], line 17\u001b[0m, in \u001b[0;36mget_embeddings\u001b[0;34m(df, tknzr, model, layers)\u001b[0m\n\u001b[1;32m     14\u001b[0m example_encoding \u001b[38;5;241m=\u001b[39m tknzr\u001b[38;5;241m.\u001b[39mencode(example, truncation\u001b[38;5;241m=\u001b[39m\u001b[38;5;28;01mTrue\u001b[39;00m)\n\u001b[1;32m     16\u001b[0m \u001b[38;5;66;03m## get the token embedding for the term\u001b[39;00m\n\u001b[0;32m---> 17\u001b[0m vector \u001b[38;5;241m=\u001b[39m \u001b[43mextract_embedding\u001b[49m\u001b[43m(\u001b[49m\u001b[43mmodel\u001b[49m\u001b[43m,\u001b[49m\u001b[43m \u001b[49m\u001b[43mexample_encoding\u001b[49m\u001b[43m,\u001b[49m\u001b[43m \u001b[49m\u001b[43mterm_indices\u001b[49m\u001b[43m,\u001b[49m\u001b[43m \u001b[49m\u001b[43mlayers\u001b[49m\u001b[38;5;241;43m=\u001b[39;49m\u001b[43mlayers\u001b[49m\u001b[43m)\u001b[49m\n\u001b[1;32m     18\u001b[0m \u001b[38;5;66;03m## write it to a dictionary for later use\u001b[39;00m\n\u001b[1;32m     19\u001b[0m embeddings[row[\u001b[38;5;124m'\u001b[39m\u001b[38;5;124mid\u001b[39m\u001b[38;5;124m'\u001b[39m]] \u001b[38;5;241m=\u001b[39m vector\n",
      "Cell \u001b[0;32mIn[22], line 20\u001b[0m, in \u001b[0;36mextract_embedding\u001b[0;34m(model, example_encoding, term_indices, layers)\u001b[0m\n\u001b[1;32m     13\u001b[0m     vecs \u001b[38;5;241m=\u001b[39m torch\u001b[38;5;241m.\u001b[39mmean(torch\u001b[38;5;241m.\u001b[39mstack(selected_encoded_layers), \u001b[38;5;241m0\u001b[39m)\u001b[38;5;241m.\u001b[39msqueeze(\u001b[38;5;241m0\u001b[39m)\n\u001b[1;32m     14\u001b[0m \u001b[38;5;28;01melif\u001b[39;00m layers \u001b[38;5;241m==\u001b[39m \u001b[38;5;124m'\u001b[39m\u001b[38;5;124mall\u001b[39m\u001b[38;5;124m'\u001b[39m:\n\u001b[1;32m     15\u001b[0m     \u001b[38;5;66;03m### you can print the shapes of the \u001b[39;00m\n\u001b[1;32m     16\u001b[0m     \u001b[38;5;66;03m#print('The shape of encoded layers: ', len(encoded_layers)) ## 12 bert-base layers + 1 hidden states\u001b[39;00m\n\u001b[1;32m     17\u001b[0m     \u001b[38;5;66;03m#print('The shape of encoded layers: ', len(encoded_layers[0])) # batch size , since we only sent one sentence at a time, it is 1\u001b[39;00m\n\u001b[1;32m     18\u001b[0m     \u001b[38;5;66;03m#print('The shape of encoded layers: ', len(encoded_layers[0][0])) # max token count\u001b[39;00m\n\u001b[1;32m     19\u001b[0m     \u001b[38;5;66;03m#print('The shape of encoded layers: ', len(encoded_layers[0][0][0])) # hidden size\u001b[39;00m\n\u001b[0;32m---> 20\u001b[0m     vecs \u001b[38;5;241m=\u001b[39m torch\u001b[38;5;241m.\u001b[39mmean(\u001b[43mtorch\u001b[49m\u001b[38;5;241;43m.\u001b[39;49m\u001b[43mstack\u001b[49m\u001b[43m(\u001b[49m\u001b[43mencoded_layers\u001b[49m\u001b[43m)\u001b[49m, \u001b[38;5;241m0\u001b[39m)\u001b[38;5;241m.\u001b[39msqueeze(\u001b[38;5;241m0\u001b[39m)\n\u001b[1;32m     21\u001b[0m \u001b[38;5;66;03m# target word selection \u001b[39;00m\n\u001b[1;32m     22\u001b[0m vecs \u001b[38;5;241m=\u001b[39m vecs\u001b[38;5;241m.\u001b[39mdetach()\n",
      "\u001b[0;31mTypeError\u001b[0m: stack(): argument 'tensors' (position 1) must be tuple of Tensors, not Tensor"
     ]
    }
   ],
   "source": [
    "bert_type ='distilroberta_offens_multi'\n",
    "if bert_type=='base':\n",
    "    tknzr = AutoTokenizer.from_pretrained(\"bert-base-uncased\")   ## most basic model, not designed for hate!\n",
    "    model = AutoModel.from_pretrained('bert-base-uncased', output_hidden_states=True)\n",
    "\n",
    "if bert_type==\"hateBERT\" :   \n",
    "    tknzr = AutoTokenizer.from_pretrained(\"GroNLP/hateBERT\")\n",
    "    model = AutoModel.from_pretrained(\"GroNLP/hateBERT\",output_hidden_states=True)  \n",
    "if  bert_type==\"distilroberta_offens_multi\" :     #multiclass\n",
    "    tokenizer = AutoTokenizer.from_pretrained(\"badmatr11x/distilroberta-base-offensive-hateful-speech-text-multiclassification\")\n",
    "    model = AutoModelForSequenceClassification.from_pretrained(\"badmatr11x/distilroberta-base-offensive-hateful-speech-text-multiclassification\")\n",
    "if bert_type==\"IMSyPP\" : # multiclass  \n",
    "    tokenizer = AutoTokenizer.from_pretrained(\"IMSyPP/hate_speech_en\")\n",
    "    model = AutoModelForSequenceClassification.from_pretrained(\"IMSyPP/hate_speech_en\")\n",
    "if bert_type==\"roberta-hate-speech-dynabench\" : #\n",
    "    tokenizer = AutoTokenizer.from_pretrained(\"facebook/roberta-hate-speech-dynabench-r4-target\")\n",
    "    model = AutoModelForSequenceClassification.from_pretrained(\"facebook/roberta-hate-speech-dynabench-r4-target\")\n",
    "if bert_type==\"cardiffnlp_hate\" : #   \n",
    "    tokenizer = AutoTokenizer.from_pretrained(\"cardiffnlp/twitter-roberta-base-hate-latest\")\n",
    "    model = AutoModelForSequenceClassification.from_pretrained(\"cardiffnlp/twitter-roberta-base-hate-latest\") \n",
    "    \n",
    "model.eval()\n",
    "\n",
    "#tknzr = AutoTokenizer.from_pretrained(model_name)\n",
    "#model = AutoModel.from_pretrained(model_name, output_hidden_states=True)\n",
    "\n",
    "\n",
    "train_id2embedding = get_embeddings(train_df, tknzr, model)\n",
    "test_id2embedding = get_embeddings(test_df, tknzr, model)"
   ]
  },
  {
   "cell_type": "markdown",
   "metadata": {},
   "source": [
    "Making sure that we exclude data instances that (1) are not annotated with one of the three hate classes, or (2) for which no embeddings could be extracted."
   ]
  },
  {
   "cell_type": "code",
   "execution_count": 25,
   "metadata": {},
   "outputs": [
    {
     "name": "stdout",
     "output_type": "stream",
     "text": [
      "[1, 1, 1, 1, 1, 1, 1, 1, 1, 1, 1, 1, 1, 1, 1, 1, 1, 1, 1, 1, 1, 1, 1, 1, 1, 1, 1, 1, 1, 1, 1, 1, 1, 1, 1, 1, 2, 2, 2, 2, 2, 2, 2, 2, 2, 2, 2, 2, 2, 2, 2, 2, 2, 2, 2, 2, 2, 2, 2, 2, 2, 0, 0, 0, 0, 0, 0, 0, 0, 0, 0, 0, 0, 0, 0, 0, 0, 0, 0, 0, 0, 0, 0, 0, 0, 0, 0, 0, 0, 0, 0, 0, 1, 1, 1, 1, 1, 1, 1, 1, 1, 1, 1, 1, 1, 1, 1, 1, 1, 1, 1, 1, 1, 1, 1, 0, 0, 0, 0, 0, 0, 0, 0, 0, 0, 0, 0, 0, 0, 0, 0, 0, 0, 0, 0, 0, 0, 0, 0, 0, 0, 0, 0, 0, 0, 0, 0, 1, 1, 1, 1, 1, 1, 1, 1, 1, 1, 1, 1, 1, 1, 1, 1, 1, 1, 1, 1, 1, 1, 1, 1, 1, 1, 1, 1, 1, 1, 1, 1, 1, 2, 2, 2, 2, 2, 2, 2, 2, 2, 2, 2, 2, 2, 2, 2, 2, 2, 2, 2, 2, 2, 2, 2, 2, 2, 0, 0, 0, 0, 0, 0, 0, 0, 0, 0, 0, 0, 0, 0, 0, 0, 0, 0, 0, 0, 0, 0, 0, 0, 0, 0, 0, 0, 0, 0, 0, 1, 1, 1, 1, 1, 1, 1, 1, 1, 1, 1, 1, 1, 1, 1, 1, 1, 1, 1, 1, 1, 1, 0, 0, 0, 0, 0, 0, 0, 0, 0, 0, 0, 0, 0, 0, 0, 0, 0, 0, 0, 0, 0, 0, 0, 0, 0, 0, 0, 0, 0, 0, 0, 0, 1, 1, 1, 1, 1, 1, 1, 1, 1, 1, 1, 1, 1, 1, 1, 1, 1, 1, 1, 1, 1, 1, 1, 1, 1, 1, 1, 1, 1, 1, 1, 1, 1, 1, 2, 2, 2, 2, 2, 2, 2, 2, 2, 2, 2, 2, 2, 2, 2, 2, 2, 2, 2, 2, 2, 2, 2, 2, 2, 2, 0, 0, 0, 0, 0, 0, 0, 0, 0, 0, 0, 0, 0, 0, 0, 0, 0, 0, 0, 0, 0, 0, 0, 0, 0, 0, 0, 0, 1, 1, 1, 1, 1, 1, 1, 1]\n"
     ]
    }
   ],
   "source": [
    "train_df = train_df[train_df['ANNOTATION'].isin([0, 1, 2])]\n",
    "train_df = train_df[train_df['id'].isin(train_id2embedding)]\n",
    "train_labels = list(train_df['ANNOTATION'])\n",
    "train_embeddings = [train_id2embedding[row['id']] for _, row in train_df.iterrows()]\n",
    "\n",
    "test_df = test_df[test_df['ANNOTATION'].isin([0, 1, 2])]\n",
    "test_df = test_df[test_df['id'].isin(test_id2embedding)]\n",
    "test_labels = list(test_df['ANNOTATION'])\n",
    "print(train_labels)\n",
    "test_embeddings = [test_id2embedding[row['id']] for _, row in test_df.iterrows()]"
   ]
  },
  {
   "cell_type": "code",
   "execution_count": 12,
   "metadata": {},
   "outputs": [],
   "source": [
    "# Now we have the embeddings for the tokens, we can train a MLP classifier to predict whether the token is hateful or not"
   ]
  },
  {
   "cell_type": "markdown",
   "metadata": {},
   "source": [
    "Functions needed to train and test a Multi Layer Perceptron"
   ]
  },
  {
   "cell_type": "code",
   "execution_count": 13,
   "metadata": {},
   "outputs": [],
   "source": [
    "def run_report_MLC(train_X, train_Y, test_X, test_Y):\n",
    "    # Create an MLPClassifier model\n",
    "    mlp = MLPClassifier(hidden_layer_sizes=(64,  32),\n",
    "                        max_iter=20, random_state=42, learning_rate_init=0.001, solver='adam', n_iter_no_change=5)\n",
    "    \n",
    "    mlp.partial_fit(train_X, train_Y,classes= np.unique(train_Y))\n",
    "\n",
    "    # Make predictions on the test data\n",
    "    \n",
    "    y_pred = mlp.predict(test_X)\n",
    "    \n",
    "    # Calculate the accuracy of the model\n",
    "    accuracy = accuracy_score(test_Y, y_pred)\n",
    "    #print(f\"Accuracy: {accuracy:.2f}\")\n",
    "\n",
    "    # Generate a classification report\n",
    "\n",
    "    report = classification_report(test_Y, y_pred, output_dict=True)#, \n",
    "    report = classification_report(test_Y, y_pred)#, output_dict=True)#, \n",
    "    \n",
    "    print(report)\n",
    "    \n",
    "\n",
    "    %matplotlib inline\n",
    "    %config InlineBackend.figure_format = 'retina'\n",
    "\n",
    "    def plot_cm(labels, predictions, p=0.5):\n",
    "        cm = confusion_matrix(labels, predictions)\n",
    "        \n",
    "        plt.figure(figsize=(5, 5))\n",
    "        sns.heatmap(cm, annot=True, fmt=\"d\")\n",
    "        plt.title(\"Confusion matrix (non-normalized))\")\n",
    "        plt.ylabel(\"Actual label\")\n",
    "        plt.xlabel(\"Predicted label\")\n",
    "        \n",
    "        return \n",
    "    \n",
    "    cm_dict_feat = plot_cm(test_Y, y_pred)\n",
    "    \n",
    "    \n",
    "    #print('-----------------------------------------')\n",
    "    return y_pred"
   ]
  },
  {
   "cell_type": "markdown",
   "metadata": {},
   "source": [
    "Train and test a MLP model"
   ]
  },
  {
   "cell_type": "code",
   "execution_count": 14,
   "metadata": {},
   "outputs": [
    {
     "name": "stdout",
     "output_type": "stream",
     "text": [
      "              precision    recall  f1-score   support\n",
      "\n",
      "           0       0.42      0.58      0.49       171\n",
      "           1       0.29      0.27      0.28       132\n",
      "           2       0.30      0.15      0.20       105\n",
      "\n",
      "    accuracy                           0.37       408\n",
      "   macro avg       0.34      0.33      0.32       408\n",
      "weighted avg       0.35      0.37      0.35       408\n",
      "\n"
     ]
    },
    {
     "data": {
      "image/png": "[encoded data removed]",
      "text/plain": [
       "<Figure size 500x500 with 2 Axes>"
      ]
     },
     "metadata": {
      "image/png": {
       "height": 469,
       "width": 448
      }
     },
     "output_type": "display_data"
    }
   ],
   "source": [
    "## very basic (without parameter optimization)\n",
    "X_train = torch.stack(train_embeddings)  \n",
    "y_train= torch.tensor(train_labels)\n",
    "#y_train = nn.functional.one_hot(torch.tensor(train_labels), num_classes=num_classes).float()\n",
    "\n",
    "X_test = torch.stack(test_embeddings)\n",
    "y_test = torch.tensor(test_labels)\n",
    "\n",
    "#train_model(MLPmodel, X_train, y_train, criterion, optimizer, num_epochs=epochs)\n",
    "predictions = run_report_MLC(X_train, y_train, X_test, y_test)\n"
   ]
  },
  {
   "cell_type": "code",
   "execution_count": 15,
   "metadata": {},
   "outputs": [],
   "source": [
    "output_path = '[your filename here].csv'\n",
    "test_df['predictions'] = predictions\n",
    "test_df.to_csv(output_path, index=False)"
   ]
  },
  {
   "cell_type": "code",
   "execution_count": 16,
   "metadata": {},
   "outputs": [
    {
     "data": {
      "text/html": [
       "<div>\n",
       "<style scoped>\n",
       "    .dataframe tbody tr th:only-of-type {\n",
       "        vertical-align: middle;\n",
       "    }\n",
       "\n",
       "    .dataframe tbody tr th {\n",
       "        vertical-align: top;\n",
       "    }\n",
       "\n",
       "    .dataframe thead th {\n",
       "        text-align: right;\n",
       "    }\n",
       "</style>\n",
       "<table border=\"1\" class=\"dataframe\">\n",
       "  <thead>\n",
       "    <tr style=\"text-align: right;\">\n",
       "      <th></th>\n",
       "      <th>id</th>\n",
       "      <th>example</th>\n",
       "      <th>term</th>\n",
       "      <th>pos</th>\n",
       "      <th>sense_id</th>\n",
       "      <th>definition</th>\n",
       "      <th>ANNOTATION</th>\n",
       "      <th>DEFICIENT SENTENCE</th>\n",
       "      <th>predictions</th>\n",
       "    </tr>\n",
       "  </thead>\n",
       "  <tbody>\n",
       "    <tr>\n",
       "      <th>0</th>\n",
       "      <td>736</td>\n",
       "      <td>\"Bodie!... You cocksucker, you said it wouldn'...</td>\n",
       "      <td>cocksucker</td>\n",
       "      <td>noun</td>\n",
       "      <td>2</td>\n",
       "      <td>A very annoying or objectionable person.</td>\n",
       "      <td>1</td>\n",
       "      <td>NaN</td>\n",
       "      <td>0</td>\n",
       "    </tr>\n",
       "    <tr>\n",
       "      <th>1</th>\n",
       "      <td>2860</td>\n",
       "      <td>... parasiting upon her husband, taking everyt...</td>\n",
       "      <td>parasite</td>\n",
       "      <td>verb</td>\n",
       "      <td>1</td>\n",
       "      <td>To parasitize.</td>\n",
       "      <td>2</td>\n",
       "      <td>NaN</td>\n",
       "      <td>2</td>\n",
       "    </tr>\n",
       "    <tr>\n",
       "      <th>2</th>\n",
       "      <td>2676</td>\n",
       "      <td>Always an eloquent speaker, Polk became known ...</td>\n",
       "      <td>napoleon</td>\n",
       "      <td>noun</td>\n",
       "      <td>4</td>\n",
       "      <td>Clipping of Napoleon boot: a form of topboot w...</td>\n",
       "      <td>0</td>\n",
       "      <td>NaN</td>\n",
       "      <td>1</td>\n",
       "    </tr>\n",
       "    <tr>\n",
       "      <th>4</th>\n",
       "      <td>2171</td>\n",
       "      <td>In his moronic book, _The Design Revolution: A...</td>\n",
       "      <td>IDiot</td>\n",
       "      <td>noun</td>\n",
       "      <td>1</td>\n",
       "      <td>A proponent of intelligent design.</td>\n",
       "      <td>1</td>\n",
       "      <td>NaN</td>\n",
       "      <td>0</td>\n",
       "    </tr>\n",
       "    <tr>\n",
       "      <th>5</th>\n",
       "      <td>1694</td>\n",
       "      <td>And you're scared and insecure and that's why ...</td>\n",
       "      <td>fudgebag</td>\n",
       "      <td>noun</td>\n",
       "      <td>1</td>\n",
       "      <td>A despicable or stupid person.</td>\n",
       "      <td>1</td>\n",
       "      <td>NaN</td>\n",
       "      <td>0</td>\n",
       "    </tr>\n",
       "    <tr>\n",
       "      <th>...</th>\n",
       "      <td>...</td>\n",
       "      <td>...</td>\n",
       "      <td>...</td>\n",
       "      <td>...</td>\n",
       "      <td>...</td>\n",
       "      <td>...</td>\n",
       "      <td>...</td>\n",
       "      <td>...</td>\n",
       "      <td>...</td>\n",
       "    </tr>\n",
       "    <tr>\n",
       "      <th>495</th>\n",
       "      <td>338</td>\n",
       "      <td>bourgeois opinion</td>\n",
       "      <td>bourgeois</td>\n",
       "      <td>adjective</td>\n",
       "      <td>1</td>\n",
       "      <td>Of or relating to the middle class, (often der...</td>\n",
       "      <td>0</td>\n",
       "      <td>NaN</td>\n",
       "      <td>1</td>\n",
       "    </tr>\n",
       "    <tr>\n",
       "      <th>496</th>\n",
       "      <td>52</td>\n",
       "      <td>You know nothing about the law. You're a used-...</td>\n",
       "      <td>ambulance chaser</td>\n",
       "      <td>noun</td>\n",
       "      <td>1</td>\n",
       "      <td>An unethical attorney who solicits business at...</td>\n",
       "      <td>0</td>\n",
       "      <td>NaN</td>\n",
       "      <td>1</td>\n",
       "    </tr>\n",
       "    <tr>\n",
       "      <th>497</th>\n",
       "      <td>4371</td>\n",
       "      <td>When the troons speak about ‘gender neutral sp...</td>\n",
       "      <td>troon</td>\n",
       "      <td>noun</td>\n",
       "      <td>1</td>\n",
       "      <td>A transgender person.</td>\n",
       "      <td>0</td>\n",
       "      <td>NaN</td>\n",
       "      <td>1</td>\n",
       "    </tr>\n",
       "    <tr>\n",
       "      <th>498</th>\n",
       "      <td>3698</td>\n",
       "      <td>Her seven-year-old brother Justin sat on my la...</td>\n",
       "      <td>sissy</td>\n",
       "      <td>noun</td>\n",
       "      <td>4</td>\n",
       "      <td>Sister.</td>\n",
       "      <td>0</td>\n",
       "      <td>NaN</td>\n",
       "      <td>0</td>\n",
       "    </tr>\n",
       "    <tr>\n",
       "      <th>499</th>\n",
       "      <td>3133</td>\n",
       "      <td>Mom was always pushing her only daughter to be...</td>\n",
       "      <td>prissy</td>\n",
       "      <td>adjective</td>\n",
       "      <td>2</td>\n",
       "      <td>Very feminine or dressy.</td>\n",
       "      <td>0</td>\n",
       "      <td>NaN</td>\n",
       "      <td>1</td>\n",
       "    </tr>\n",
       "  </tbody>\n",
       "</table>\n",
       "<p>408 rows × 9 columns</p>\n",
       "</div>"
      ],
      "text/plain": [
       "       id                                            example  \\\n",
       "0     736  \"Bodie!... You cocksucker, you said it wouldn'...   \n",
       "1    2860  ... parasiting upon her husband, taking everyt...   \n",
       "2    2676  Always an eloquent speaker, Polk became known ...   \n",
       "4    2171  In his moronic book, _The Design Revolution: A...   \n",
       "5    1694  And you're scared and insecure and that's why ...   \n",
       "..    ...                                                ...   \n",
       "495   338                                  bourgeois opinion   \n",
       "496    52  You know nothing about the law. You're a used-...   \n",
       "497  4371  When the troons speak about ‘gender neutral sp...   \n",
       "498  3698  Her seven-year-old brother Justin sat on my la...   \n",
       "499  3133  Mom was always pushing her only daughter to be...   \n",
       "\n",
       "                 term        pos  sense_id  \\\n",
       "0          cocksucker       noun         2   \n",
       "1            parasite       verb         1   \n",
       "2            napoleon       noun         4   \n",
       "4               IDiot       noun         1   \n",
       "5            fudgebag       noun         1   \n",
       "..                ...        ...       ...   \n",
       "495         bourgeois  adjective         1   \n",
       "496  ambulance chaser       noun         1   \n",
       "497             troon       noun         1   \n",
       "498             sissy       noun         4   \n",
       "499            prissy  adjective         2   \n",
       "\n",
       "                                            definition ANNOTATION  \\\n",
       "0             A very annoying or objectionable person.          1   \n",
       "1                                       To parasitize.          2   \n",
       "2    Clipping of Napoleon boot: a form of topboot w...          0   \n",
       "4                   A proponent of intelligent design.          1   \n",
       "5                       A despicable or stupid person.          1   \n",
       "..                                                 ...        ...   \n",
       "495  Of or relating to the middle class, (often der...          0   \n",
       "496  An unethical attorney who solicits business at...          0   \n",
       "497                              A transgender person.          0   \n",
       "498                                            Sister.          0   \n",
       "499                           Very feminine or dressy.          0   \n",
       "\n",
       "     DEFICIENT SENTENCE  predictions  \n",
       "0                   NaN            0  \n",
       "1                   NaN            2  \n",
       "2                   NaN            1  \n",
       "4                   NaN            0  \n",
       "5                   NaN            0  \n",
       "..                  ...          ...  \n",
       "495                 NaN            1  \n",
       "496                 NaN            1  \n",
       "497                 NaN            1  \n",
       "498                 NaN            0  \n",
       "499                 NaN            1  \n",
       "\n",
       "[408 rows x 9 columns]"
      ]
     },
     "execution_count": 16,
     "metadata": {},
     "output_type": "execute_result"
    }
   ],
   "source": [
    "test_df"
   ]
  }
 ],
 "metadata": {
  "kernelspec": {
   "display_name": "Python 3",
   "language": "python",
   "name": "python3"
  },
  "language_info": {
   "codemirror_mode": {
    "name": "ipython",
    "version": 3
   },
   "file_extension": ".py",
   "mimetype": "text/x-python",
   "name": "python",
   "nbconvert_exporter": "python",
   "pygments_lexer": "ipython3",
   "version": "3.9.6"
  }
 },
 "nbformat": 4,
 "nbformat_minor": 2
}
