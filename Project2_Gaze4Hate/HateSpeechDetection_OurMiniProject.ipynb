{
  "nbformat": 4,
  "nbformat_minor": 0,
  "metadata": {
    "colab": {
      "provenance": []
    },
    "kernelspec": {
      "name": "python3",
      "display_name": "Python 3"
    },
    "language_info": {
      "name": "python"
    }
  },
  "cells": [
    {
      "cell_type": "code",
      "source": [
        "!pip install krippendorff"
      ],
      "metadata": {
        "colab": {
          "base_uri": "https://localhost:8080/"
        },
        "id": "I3b_93SnUBnK",
        "outputId": "1d0a74ff-9e82-4eb4-e3dd-02d281e01da8"
      },
      "execution_count": null,
      "outputs": [
        {
          "output_type": "stream",
          "name": "stdout",
          "text": [
            "Requirement already satisfied: krippendorff in /usr/local/lib/python3.10/dist-packages (0.6.1)\n",
            "Requirement already satisfied: numpy<2.0,>=1.21 in /usr/local/lib/python3.10/dist-packages (from krippendorff) (1.25.2)\n"
          ]
        }
      ]
    },
    {
      "cell_type": "code",
      "source": [
        "import pandas as pd\n",
        "import nltk\n",
        "nltk.download('punkt')\n",
        "\n",
        "# Reading Gaze4Hate Original Sentences\n",
        "orig_sentence_file = \"gaze4hate_sentences_to_annotate.xlsx\"\n",
        "orig_sent_df = pd.read_excel(open(orig_sentence_file, 'rb'), sheet_name='stimuli')\n",
        "orig_sent_df= orig_sent_df.loc[orig_sent_df['Cond_remark']!='fam']"
      ],
      "metadata": {
        "colab": {
          "base_uri": "https://localhost:8080/"
        },
        "id": "4GO9Sz7zSshm",
        "outputId": "3c8a282e-f366-4642-8a99-2f41b0d7a66e"
      },
      "execution_count": null,
      "outputs": [
        {
          "output_type": "stream",
          "name": "stderr",
          "text": [
            "[nltk_data] Downloading package punkt to /root/nltk_data...\n",
            "[nltk_data]   Package punkt is already up-to-date!\n"
          ]
        }
      ]
    },
    {
      "cell_type": "code",
      "source": [
        "### Task 1: Data Exploration\n",
        "joined_data = ''.join(orig_sent_df['processed_assertion'].tolist())\n",
        "joined_data = joined_data.replace(',', ' , ').replace('.', ' . ')\n",
        "tokens1 = joined_data.split()\n",
        "print(tokens1)\n",
        "num_tokens1 = len(tokens1)\n",
        "types1 = set(tokens1)\n",
        "num_types1 = len(types1)\n",
        "print(f\"Token的数量：{num_tokens1}\")\n",
        "print(f\"Type的数量：{num_types1}\")\n",
        "\n",
        "# with NLTK\n",
        "tokens = nltk.word_tokenize(joined_data)\n",
        "print(tokens)\n",
        "num_tokens = len(tokens)\n",
        "types = set(tokens)\n",
        "num_types = len(types)\n",
        "print(f\"Token的数量：{num_tokens}\")\n",
        "print(f\"Type的数量：{num_types}\")"
      ],
      "metadata": {
        "colab": {
          "base_uri": "https://localhost:8080/"
        },
        "id": "TH6aFmxnTmRy",
        "outputId": "7cfa85e1-698b-4707-b2e7-7063a2389483"
      },
      "execution_count": null,
      "outputs": [
        {
          "output_type": "stream",
          "name": "stdout",
          "text": [
            "['Frauen', 'haben', 'einen', 'signifikant', 'geringeren', 'Durchsetzungswillen', '.', 'Frauen', 'sind', 'psychisch', 'nicht', 'für', 'komplexe', 'Arbeit', 'geschaffen', '.', 'Frauen', 'haben', 'im', 'statistischen', 'Mittel', 'ein', 'kleineres', 'Allgemeinwissen', '.', 'Frauenförderung', 'hat', 'fast', 'nur', 'Nachteile', 'für', 'die', 'Gesellschaft', '.', 'Frauen', 'sind', 'im', 'Durchschnitt', 'dümmer', 'als', 'Männer', '.', 'Frauen', 'sind', 'Männern', 'geistig', 'in', 'einigen', 'Bereichen', 'unterlegen', '.', 'Frauen', 'sind', 'Minderleister', 'in', 'unserer', 'Gesellschaft', '.', 'Frauen', 'können', 'nichts', 'und', 'sind', 'zu', 'dumm', '.', 'Frauen', 'ruinieren', 'oft', 'den', 'größten', 'Spaß', '.', 'Die', '#metoo-Bewegung', 'ist', 'hysterisch', '.', 'Frauen', 'sollten', 'zu', 'Hause', 'bleiben', 'und', 'sich', 'um', 'das', 'Kind', 'kümmern', '.', 'Feministen', 'sind', 'überwiegend', 'angetrieben', 'durch', 'Männerhass', '.', 'Frauen', 'altern', 'wie', 'Milch', ',', 'Männer', 'altern', 'wie', 'Wein', '.', 'Eine', 'klassische', 'Rollenverteilung', 'in', 'der', 'Ehe', 'ist', 'zu', 'bevorzugen', '.', 'Frauen', 'sind', 'für', 'gewisse', 'Berufen', 'nicht', 'geeignet', '.', 'Gleichstellung', 'der', 'Geschlechter', 'ist', 'eine', 'Überbevorteilung', 'von', 'Frauen', '.', 'Frauen', 'in', 'führenden', 'Positionen', 'haben', 'häufig', 'komplizierte', 'Persönlichkeiten', '.', 'Frauen', 'gehören', 'in', 'die', 'Küche', '.', 'Frauen', 'sollten', 'ihre', 'klassische', 'Geschlechterrolle', 'ausüben', '.', 'Alles', 'was', 'eine', 'Frau', 'tun', 'muss', ',', 'ist', 'ihren', 'Mann', 'zu', 'befriedigen', '.', 'Frauen', 'machen', 'jedes', 'wirtschaftliche', 'Unternehmen', 'stärker', '.', 'Männer', 'und', 'Frauen', 'sind', 'gleich', 'intelligent', '.', 'Frauen', 'können', 'ohne', 'Kinder', 'glücklich', 'sein', '.', 'Frauen', 'sind', 'nicht', 'schwach', 'und', 'sollten', 'sich', 'so', 'auch', 'nicht', 'fühlen', '.', 'Frauen', 'sollen', 'das', 'gleiche', 'machen', 'dürfen', 'wie', 'Männer', '.', 'Beide', 'Geschlechter', 'sollten', 'gleich', 'bezahlt', 'werden', '.', 'Gleichberechtigung', 'ist', 'eine', 'menschenrechtliche', 'Frage', '.', 'Väter', 'müssen', 'im', 'gleichen', 'Umfang', 'wie', 'Mütter', 'Verantwortung', 'für', 'ihre', 'Kinder', 'übernehmen', '.', 'Die', 'Geschlechter', 'sind', 'nicht', 'immer', 'gleich', ',', 'jedoch', 'nicht', 'minderwertiger', '.', 'Alleinerziehende', 'Mütter', 'sind', 'Heldinnen', '.', 'Es', 'gibt', 'Frauenberufe', 'und', 'es', 'gibt', 'Männerberufe', '.', 'Männer', 'fühlen', 'sich', 'von', 'Frauen', 'in', 'Führungspositionen', 'bedroht', '.', 'Frauenquote', 'muss', 'überall', 'sein', '.', 'Männer', 'und', 'Frauen', 'sind', 'in', 'einer', 'traditionellen', 'Familie', 'am', 'glücklichsten', '.', 'Frauen', 'sind', 'bei', 'Sorgerechtsfragen', 'privilegiert', '.', 'Frauen', 'haben', 'große', 'Vorteile', 'bei', 'Gerichtsentscheidungen', 'über', 'den', 'Verbleib', 'der', 'eigenen', 'Kinder', '.', 'Frauen', 'sind', 'im', 'Durchschnitt', 'schwächer', 'als', 'Männer', 'in', 'physischen', 'Aspekten', '.', 'Die', 'Gender-Pay-Gap', 'ist', 'kein', 'Problem', 'des', 'Sexismus', '.', 'Frauen', 'können', 'sich', 'besser', 'um', 'Kinder', 'und', 'Familie', 'kümmern', ',', 'es', 'liegt', 'in', 'ihrer', 'Natur', '.', 'Spezielle', 'Frauenquoten', 'sind', 'unnötig', 'und', 'kontraproduktiv', '.', 'Männer', 'sind', 'unsozial', '.', 'Männer', 'sind', 'dümmer', 'als', 'Frauen', '.', 'Männer', 'sind', 'unzuverlässiger', 'als', 'Frauen', '.', 'Alle', 'Männer', 'sind', 'Machos', '.', 'Männer', 'sind', 'nicht', 'die', 'hellsten', '.', 'Der', 'Mann', 'verprasst', 'das', 'Geld', '.', 'Männer', 'gehören', 'auf', 'den', 'Bau', '.', 'Männer', 'sind', 'bei', 'Stellenvergaben', 'privilegiert', '.', 'Männer', 'verbingen', 'wenig', 'Zeit', 'mit', 'ihren', 'Kindern', '.', 'Alle', 'Männer', 'sind', 'ausgewachsene', 'Kinder', '.', 'Pokemons', 'haben', 'einen', 'signifikant', 'geringeren', 'Durchsetzungswillen', '.', 'Kinder', 'sind', 'psychisch', 'nicht', 'für', 'komplexe', 'Arbeit', 'geschaffen', '.', 'Kinder', 'haben', 'im', 'statistischen', 'Mittel', 'ein', 'kleineres', 'Allgemeinwissen', '.', 'Egoismus', 'hat', 'fast', 'nur', 'Nachteile', 'für', 'die', 'Gesellschaft', '.', 'Fische', 'sind', 'im', 'Durchschnitt', 'dümmer', 'als', 'Oktopusse', '.', 'Hunde', 'sind', 'Menschen', 'geistig', 'in', 'einigen', 'Bereichen', 'unterlegen', '.', 'Kricketteams', 'sind', 'Minderleister', 'in', 'unseren', 'Kneipen', '.', 'Minions', 'können', 'nichts', 'und', 'sind', 'zu', 'dumm', '.', 'Regen', 'ruiniert', 'oft', 'den', 'größten', 'Spaß', '.', 'Die', '#keinurlaub-Bewegung', 'ist', 'hysterisch', '.', 'Babysitter', 'sollten', 'zu', 'Hause', 'bleiben', 'und', 'sich', 'um', 'das', 'Kind', 'kümmern', '.', 'Wissenschaftler', 'sind', 'überwiegend', 'angetrieben', 'durch', 'Neugierde', '.', 'Programme', 'altern', 'wie', 'Milch', ',', 'Programmierer', 'altern', 'wie', 'Wein', '.', 'Ein', 'gesundes', 'Sexualleben', 'in', 'der', 'Ehe', 'ist', 'zu', 'bevorzugen', '.', 'Nachteulen', 'sind', 'für', 'bestimmte', 'Berufe', 'nicht', 'geeignet', '.', 'Gleichstellung', 'der', 'Geschlechter', 'findet', 'zunehmend', 'häufiger', 'statt', '.', 'Menschen', 'in', 'führenden', 'Positionen', 'haben', 'häufig', 'komplizierte', 'Terminpläne', '.', 'Töpfe', 'gehören', 'in', 'die', 'Küche', '.', 'Hühner', 'sollten', 'ihre', 'klassische', 'Gluckenrolle', 'ausüben', '.', 'Alles', 'was', 'ein', 'Film', 'tun', 'muss', ',', 'ist', 'seine', 'Zuschauer', 'zu', 'befriedigen', '.', 'Frauen', 'haben', 'einen', 'signifikant', 'höre', 'Schmerztoleranz', '.', 'Frauen', 'sind', 'psychisch', 'für', 'komplexe', 'Arbeit', 'geschaffen', '.', 'Frauen', 'haben', 'im', 'statistischen', 'Mittel', 'in', 'einen', 'größeren', 'Wortschatz', '.', 'Frauenförderung', 'hat', 'fast', 'nur', 'Vorteile', 'für', 'die', 'Gesellschaft', '.', 'Frauen', 'sind', 'im', 'Durchschnitt', 'sozialer', 'als', 'Männer', '.', 'Frauen', 'sind', 'Männern', 'im', 'Erinnerungsvermögen', 'überlegen', '.', 'Frauen', 'sind', 'Säulen', 'in', 'unserer', 'Gesellschaft', '.', 'Frauen', 'können', 'alles', 'und', 'sind', 'sehr', 'kreativ', '.', 'Frauen', 'schaffen', 'oft', 'den', 'größten', 'Spaß', '.', 'Die', '#metoo-Bewegung', 'ist', 'wirkmächtig', '.', 'Frauen', 'sollten', 'nicht', 'zu', 'Hause', 'bleiben', 'und', 'sich', 'um', 'ihre', 'Karriere', 'kümmern', '.', 'Feministen', 'sind', 'überwiegend', 'angetrieben', 'durch', 'Gerechtigkeitswünsche', '.', 'Gerüchte', 'altern', 'wie', 'Milch', ',', 'Frauen', 'altern', 'wie', 'Wein', '.', 'Eine', 'moderne', 'Rollenverteilung', 'in', 'der', 'Ehe', 'ist', 'zu', 'bevorzugen', '.', 'Frauen', 'sind', 'für', 'alle', 'Berufe', 'gut', 'geeignet', '.', 'Gleichstellung', 'der', 'Geschlechter', 'ist', 'ein', 'Traum', 'der', 'Gesellschaft', '.', 'Frauen', 'in', 'führenden', 'Positionen', 'haben', 'häufig', 'starke', 'Persönlichkeiten', '.', 'Frauen', 'gehören', 'in', 'die', 'Regierung', '.', 'Frauen', 'sollten', 'ihren', 'Traumberuf', 'ausüben', '.', 'Alles', 'was', 'eine', 'Frau', 'tun', 'muss', ',', 'ist', 'ihre', 'Wünsche', 'zu', 'befriedigen', '.']\n",
            "Token的数量：741\n",
            "Type的数量：254\n",
            "['Frauen', 'haben', 'einen', 'signifikant', 'geringeren', 'Durchsetzungswillen', '.', 'Frauen', 'sind', 'psychisch', 'nicht', 'für', 'komplexe', 'Arbeit', 'geschaffen', '.', 'Frauen', 'haben', 'im', 'statistischen', 'Mittel', 'ein', 'kleineres', 'Allgemeinwissen', '.', 'Frauenförderung', 'hat', 'fast', 'nur', 'Nachteile', 'für', 'die', 'Gesellschaft', '.', 'Frauen', 'sind', 'im', 'Durchschnitt', 'dümmer', 'als', 'Männer', '.', 'Frauen', 'sind', 'Männern', 'geistig', 'in', 'einigen', 'Bereichen', 'unterlegen', '.', 'Frauen', 'sind', 'Minderleister', 'in', 'unserer', 'Gesellschaft', '.', 'Frauen', 'können', 'nichts', 'und', 'sind', 'zu', 'dumm', '.', 'Frauen', 'ruinieren', 'oft', 'den', 'größten', 'Spaß', '.', 'Die', '#', 'metoo-Bewegung', 'ist', 'hysterisch', '.', 'Frauen', 'sollten', 'zu', 'Hause', 'bleiben', 'und', 'sich', 'um', 'das', 'Kind', 'kümmern', '.', 'Feministen', 'sind', 'überwiegend', 'angetrieben', 'durch', 'Männerhass', '.', 'Frauen', 'altern', 'wie', 'Milch', ',', 'Männer', 'altern', 'wie', 'Wein', '.', 'Eine', 'klassische', 'Rollenverteilung', 'in', 'der', 'Ehe', 'ist', 'zu', 'bevorzugen', '.', 'Frauen', 'sind', 'für', 'gewisse', 'Berufen', 'nicht', 'geeignet', '.', 'Gleichstellung', 'der', 'Geschlechter', 'ist', 'eine', 'Überbevorteilung', 'von', 'Frauen', '.', 'Frauen', 'in', 'führenden', 'Positionen', 'haben', 'häufig', 'komplizierte', 'Persönlichkeiten', '.', 'Frauen', 'gehören', 'in', 'die', 'Küche', '.', 'Frauen', 'sollten', 'ihre', 'klassische', 'Geschlechterrolle', 'ausüben', '.', 'Alles', 'was', 'eine', 'Frau', 'tun', 'muss', ',', 'ist', 'ihren', 'Mann', 'zu', 'befriedigen', '.', 'Frauen', 'machen', 'jedes', 'wirtschaftliche', 'Unternehmen', 'stärker', '.', 'Männer', 'und', 'Frauen', 'sind', 'gleich', 'intelligent', '.', 'Frauen', 'können', 'ohne', 'Kinder', 'glücklich', 'sein', '.', 'Frauen', 'sind', 'nicht', 'schwach', 'und', 'sollten', 'sich', 'so', 'auch', 'nicht', 'fühlen', '.', 'Frauen', 'sollen', 'das', 'gleiche', 'machen', 'dürfen', 'wie', 'Männer', '.', 'Beide', 'Geschlechter', 'sollten', 'gleich', 'bezahlt', 'werden', '.', 'Gleichberechtigung', 'ist', 'eine', 'menschenrechtliche', 'Frage', '.', 'Väter', 'müssen', 'im', 'gleichen', 'Umfang', 'wie', 'Mütter', 'Verantwortung', 'für', 'ihre', 'Kinder', 'übernehmen', '.', 'Die', 'Geschlechter', 'sind', 'nicht', 'immer', 'gleich', ',', 'jedoch', 'nicht', 'minderwertiger', '.', 'Alleinerziehende', 'Mütter', 'sind', 'Heldinnen', '.', 'Es', 'gibt', 'Frauenberufe', 'und', 'es', 'gibt', 'Männerberufe', '.', 'Männer', 'fühlen', 'sich', 'von', 'Frauen', 'in', 'Führungspositionen', 'bedroht', '.', 'Frauenquote', 'muss', 'überall', 'sein', '.', 'Männer', 'und', 'Frauen', 'sind', 'in', 'einer', 'traditionellen', 'Familie', 'am', 'glücklichsten', '.', 'Frauen', 'sind', 'bei', 'Sorgerechtsfragen', 'privilegiert', '.', 'Frauen', 'haben', 'große', 'Vorteile', 'bei', 'Gerichtsentscheidungen', 'über', 'den', 'Verbleib', 'der', 'eigenen', 'Kinder', '.', 'Frauen', 'sind', 'im', 'Durchschnitt', 'schwächer', 'als', 'Männer', 'in', 'physischen', 'Aspekten', '.', 'Die', 'Gender-Pay-Gap', 'ist', 'kein', 'Problem', 'des', 'Sexismus', '.', 'Frauen', 'können', 'sich', 'besser', 'um', 'Kinder', 'und', 'Familie', 'kümmern', ',', 'es', 'liegt', 'in', 'ihrer', 'Natur', '.', 'Spezielle', 'Frauenquoten', 'sind', 'unnötig', 'und', 'kontraproduktiv', '.', 'Männer', 'sind', 'unsozial', '.', 'Männer', 'sind', 'dümmer', 'als', 'Frauen', '.', 'Männer', 'sind', 'unzuverlässiger', 'als', 'Frauen', '.', 'Alle', 'Männer', 'sind', 'Machos', '.', 'Männer', 'sind', 'nicht', 'die', 'hellsten', '.', 'Der', 'Mann', 'verprasst', 'das', 'Geld', '.', 'Männer', 'gehören', 'auf', 'den', 'Bau', '.', 'Männer', 'sind', 'bei', 'Stellenvergaben', 'privilegiert', '.', 'Männer', 'verbingen', 'wenig', 'Zeit', 'mit', 'ihren', 'Kindern', '.', 'Alle', 'Männer', 'sind', 'ausgewachsene', 'Kinder', '.', 'Pokemons', 'haben', 'einen', 'signifikant', 'geringeren', 'Durchsetzungswillen', '.', 'Kinder', 'sind', 'psychisch', 'nicht', 'für', 'komplexe', 'Arbeit', 'geschaffen', '.', 'Kinder', 'haben', 'im', 'statistischen', 'Mittel', 'ein', 'kleineres', 'Allgemeinwissen', '.', 'Egoismus', 'hat', 'fast', 'nur', 'Nachteile', 'für', 'die', 'Gesellschaft', '.', 'Fische', 'sind', 'im', 'Durchschnitt', 'dümmer', 'als', 'Oktopusse', '.', 'Hunde', 'sind', 'Menschen', 'geistig', 'in', 'einigen', 'Bereichen', 'unterlegen', '.', 'Kricketteams', 'sind', 'Minderleister', 'in', 'unseren', 'Kneipen', '.', 'Minions', 'können', 'nichts', 'und', 'sind', 'zu', 'dumm', '.', 'Regen', 'ruiniert', 'oft', 'den', 'größten', 'Spaß', '.', 'Die', '#', 'keinurlaub-Bewegung', 'ist', 'hysterisch', '.', 'Babysitter', 'sollten', 'zu', 'Hause', 'bleiben', 'und', 'sich', 'um', 'das', 'Kind', 'kümmern', '.', 'Wissenschaftler', 'sind', 'überwiegend', 'angetrieben', 'durch', 'Neugierde', '.', 'Programme', 'altern', 'wie', 'Milch', ',', 'Programmierer', 'altern', 'wie', 'Wein', '.', 'Ein', 'gesundes', 'Sexualleben', 'in', 'der', 'Ehe', 'ist', 'zu', 'bevorzugen', '.', 'Nachteulen', 'sind', 'für', 'bestimmte', 'Berufe', 'nicht', 'geeignet', '.', 'Gleichstellung', 'der', 'Geschlechter', 'findet', 'zunehmend', 'häufiger', 'statt', '.', 'Menschen', 'in', 'führenden', 'Positionen', 'haben', 'häufig', 'komplizierte', 'Terminpläne', '.', 'Töpfe', 'gehören', 'in', 'die', 'Küche', '.', 'Hühner', 'sollten', 'ihre', 'klassische', 'Gluckenrolle', 'ausüben', '.', 'Alles', 'was', 'ein', 'Film', 'tun', 'muss', ',', 'ist', 'seine', 'Zuschauer', 'zu', 'befriedigen', '.', 'Frauen', 'haben', 'einen', 'signifikant', 'höre', 'Schmerztoleranz', '.', 'Frauen', 'sind', 'psychisch', 'für', 'komplexe', 'Arbeit', 'geschaffen', '.', 'Frauen', 'haben', 'im', 'statistischen', 'Mittel', 'in', 'einen', 'größeren', 'Wortschatz', '.', 'Frauenförderung', 'hat', 'fast', 'nur', 'Vorteile', 'für', 'die', 'Gesellschaft', '.', 'Frauen', 'sind', 'im', 'Durchschnitt', 'sozialer', 'als', 'Männer', '.', 'Frauen', 'sind', 'Männern', 'im', 'Erinnerungsvermögen', 'überlegen', '.', 'Frauen', 'sind', 'Säulen', 'in', 'unserer', 'Gesellschaft', '.', 'Frauen', 'können', 'alles', 'und', 'sind', 'sehr', 'kreativ', '.', 'Frauen', 'schaffen', 'oft', 'den', 'größten', 'Spaß', '.', 'Die', '#', 'metoo-Bewegung', 'ist', 'wirkmächtig', '.', 'Frauen', 'sollten', 'nicht', 'zu', 'Hause', 'bleiben', 'und', 'sich', 'um', 'ihre', 'Karriere', 'kümmern', '.', 'Feministen', 'sind', 'überwiegend', 'angetrieben', 'durch', 'Gerechtigkeitswünsche', '.', 'Gerüchte', 'altern', 'wie', 'Milch', ',', 'Frauen', 'altern', 'wie', 'Wein', '.', 'Eine', 'moderne', 'Rollenverteilung', 'in', 'der', 'Ehe', 'ist', 'zu', 'bevorzugen', '.', 'Frauen', 'sind', 'für', 'alle', 'Berufe', 'gut', 'geeignet', '.', 'Gleichstellung', 'der', 'Geschlechter', 'ist', 'ein', 'Traum', 'der', 'Gesellschaft', '.', 'Frauen', 'in', 'führenden', 'Positionen', 'haben', 'häufig', 'starke', 'Persönlichkeiten', '.', 'Frauen', 'gehören', 'in', 'die', 'Regierung', '.', 'Frauen', 'sollten', 'ihren', 'Traumberuf', 'ausüben', '.', 'Alles', 'was', 'eine', 'Frau', 'tun', 'muss', ',', 'ist', 'ihre', 'Wünsche', 'zu', 'befriedigen', '.']\n",
            "Token的数量：744\n",
            "Type的数量：255\n"
          ]
        }
      ]
    },
    {
      "cell_type": "code",
      "source": [
        "data = orig_sent_df['processed_assertion'].tolist()\n",
        "lengths = [len(nltk.word_tokenize(sentence)) for sentence in data]\n",
        "\n",
        "max_length = max(lengths)\n",
        "min_length = min(lengths)\n",
        "avg_length = sum(lengths) / len(lengths)\n",
        "\n",
        "print(f\"最大句子长度（以词为单位）：{max_length}\")\n",
        "print(f\"最小句子长度（以词为单位）：{min_length}\")\n",
        "print(f\"平均句子长度（以词为单位）：{avg_length}\")"
      ],
      "metadata": {
        "colab": {
          "base_uri": "https://localhost:8080/"
        },
        "id": "7LiGd7wqT3oI",
        "outputId": "e266c07b-a6f5-4a07-f845-a0c7927421f0"
      },
      "execution_count": null,
      "outputs": [
        {
          "output_type": "stream",
          "name": "stdout",
          "text": [
            "最大句子长度（以词为单位）：16\n",
            "最小句子长度（以词为单位）：4\n",
            "平均句子长度（以词为单位）：8.266666666666667\n"
          ]
        }
      ]
    },
    {
      "cell_type": "code",
      "source": [
        "### Task 2: Evaluate interrater Agreement\n",
        "from statsmodels.stats.inter_rater import fleiss_kappa\n",
        "import krippendorff\n",
        "import numpy as np\n",
        "from sklearn.metrics import confusion_matrix, ConfusionMatrixDisplay\n",
        "\n",
        "\n",
        "with open('annotated_sentences_li.txt', 'r') as file_li:\n",
        "  data_li = eval(file_li.read())\n",
        "  #print(data)\n",
        "\n",
        "with open('annotated_sentences_xiong.txt', 'r') as file_xiong:\n",
        "  data_xiong = eval(file_xiong.read())\n",
        "\n",
        "annotation_li = [item[1] for item in data_li]\n",
        "annotation_xiong = [item[1] for item in data_xiong]\n",
        "print(annotation_li)\n",
        "print(annotation_xiong)\n",
        "\n",
        "# 将列表转换为数值，因为 Krippendorff's Alpha 需要数值输入\n",
        "# 这里我们简单地将每个类别映射到一个整数\n",
        "mapping = {'implicitly': 1, 'explicitly': 2, 'undefined': 3}\n",
        "list1_numeric = [mapping[item] for item in annotation_li]\n",
        "list2_numeric = [mapping[item] for item in annotation_xiong]\n",
        "\n",
        "# 将两个列表组合成一个矩阵\n",
        "matrix = np.array([list1_numeric, list2_numeric])\n",
        "\n",
        "# 计算 Krippendorff's Alpha\n",
        "alpha = krippendorff.alpha(matrix)\n",
        "print(f\"Krippendorff's Alpha is {alpha}\")"
      ],
      "metadata": {
        "colab": {
          "base_uri": "https://localhost:8080/"
        },
        "id": "9pKqNbHSCRYv",
        "outputId": "09312d05-b925-4bc1-8b0e-10d1fef3ff38"
      },
      "execution_count": null,
      "outputs": [
        {
          "output_type": "stream",
          "name": "stdout",
          "text": [
            "['implicitly', 'implicitly', 'undefined', 'implicitly', 'explicitly', 'implicitly', 'explicitly', 'explicitly', 'explicitly', 'undefined', 'implicitly', 'undefined', 'implicitly', 'undefined', 'implicitly', 'implicitly', 'implicitly', 'implicitly', 'implicitly', 'implicitly', 'implicitly', 'undefined', 'undefined', 'explicitly', 'undefined', 'undefined', 'undefined', 'undefined', 'undefined', 'explicitly', 'implicitly', 'implicitly', 'undefined', 'implicitly', 'implicitly', 'explicitly', 'implicitly', 'undefined', 'implicitly', 'undefined', 'explicitly', 'explicitly', 'explicitly', 'explicitly', 'explicitly', 'undefined', 'implicitly', 'implicitly', 'implicitly', 'implicitly', 'undefined', 'undefined', 'undefined', 'explicitly', 'undefined', 'undefined', 'undefined', 'undefined', 'undefined', 'undefined', 'undefined', 'undefined', 'undefined', 'undefined', 'undefined', 'undefined', 'undefined', 'undefined', 'undefined', 'undefined', 'implicitly', 'implicitly', 'undefined', 'explicitly', 'explicitly', 'explicitly', 'explicitly', 'explicitly', 'explicitly', 'undefined', 'implicitly', 'undefined', 'implicitly', 'undefined', 'explicitly', 'undefined', 'explicitly', 'explicitly', 'undefined', 'undefined']\n",
            "['implicitly', 'implicitly', 'implicitly', 'implicitly', 'explicitly', 'implicitly', 'implicitly', 'explicitly', 'explicitly', 'implicitly', 'implicitly', 'implicitly', 'implicitly', 'implicitly', 'implicitly', 'implicitly', 'implicitly', 'implicitly', 'implicitly', 'implicitly', 'implicitly', 'undefined', 'undefined', 'implicitly', 'undefined', 'undefined', 'undefined', 'undefined', 'implicitly', 'implicitly', 'implicitly', 'implicitly', 'implicitly', 'implicitly', 'implicitly', 'implicitly', 'implicitly', 'implicitly', 'implicitly', 'implicitly', 'explicitly', 'explicitly', 'explicitly', 'implicitly', 'explicitly', 'implicitly', 'implicitly', 'implicitly', 'implicitly', 'implicitly', 'undefined', 'undefined', 'undefined', 'undefined', 'undefined', 'undefined', 'undefined', 'undefined', 'undefined', 'undefined', 'undefined', 'undefined', 'undefined', 'undefined', 'undefined', 'undefined', 'undefined', 'undefined', 'undefined', 'undefined', 'implicitly', 'implicitly', 'implicitly', 'implicitly', 'implicitly', 'implicitly', 'implicitly', 'explicitly', 'explicitly', 'implicitly', 'implicitly', 'undefined', 'undefined', 'undefined', 'implicitly', 'undefined', 'implicitly', 'implicitly', 'implicitly', 'implicitly']\n",
            "Krippendorff's Alpha is 0.5386425609801652\n"
          ]
        }
      ]
    },
    {
      "cell_type": "code",
      "source": [
        "from statsmodels.stats import inter_rater as irr\n",
        "\n",
        "giro = np.array(matrix).transpose()\n",
        "kappa = irr.fleiss_kappa(irr.aggregate_raters(giro)[0], method='fleiss')\n",
        "print(f\"Fleiss' Kappa is {kappa}\")"
      ],
      "metadata": {
        "colab": {
          "base_uri": "https://localhost:8080/"
        },
        "id": "x9S3kO36UsZB",
        "outputId": "2c06555f-8eba-431a-f570-844f7eda7f39"
      },
      "execution_count": null,
      "outputs": [
        {
          "output_type": "stream",
          "name": "stdout",
          "text": [
            "Fleiss' Kappa is 0.521512257556365\n"
          ]
        }
      ]
    }
  ]
}