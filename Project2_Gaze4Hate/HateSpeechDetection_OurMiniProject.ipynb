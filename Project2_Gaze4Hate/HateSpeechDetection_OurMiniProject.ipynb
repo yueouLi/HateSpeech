{
  "cells": [
    {
      "cell_type": "code",
      "execution_count": 1,
      "metadata": {
        "colab": {
          "base_uri": "https://localhost:8080/"
        },
        "id": "I3b_93SnUBnK",
        "outputId": "1d0a74ff-9e82-4eb4-e3dd-02d281e01da8"
      },
      "outputs": [
        {
          "name": "stdout",
          "output_type": "stream",
          "text": [
            "Requirement already satisfied: krippendorff in /Users/liyueou/opt/anaconda3/lib/python3.9/site-packages (0.6.1)\n",
            "Requirement already satisfied: numpy<2.0,>=1.21 in /Users/liyueou/opt/anaconda3/lib/python3.9/site-packages (from krippendorff) (1.26.4)\n",
            "Note: you may need to restart the kernel to use updated packages.\n"
          ]
        }
      ],
      "source": [
        "pip install krippendorff"
      ]
    },
    {
      "cell_type": "code",
      "execution_count": 2,
      "metadata": {
        "colab": {
          "base_uri": "https://localhost:8080/"
        },
        "id": "4GO9Sz7zSshm",
        "outputId": "3c8a282e-f366-4642-8a99-2f41b0d7a66e"
      },
      "outputs": [
        {
          "name": "stderr",
          "output_type": "stream",
          "text": [
            "/Users/liyueou/opt/anaconda3/lib/python3.9/site-packages/scipy/__init__.py:146: UserWarning: A NumPy version >=1.16.5 and <1.23.0 is required for this version of SciPy (detected version 1.26.4\n",
            "  warnings.warn(f\"A NumPy version >={np_minversion} and <{np_maxversion}\"\n",
            "[nltk_data] Downloading package punkt to /Users/liyueou/nltk_data...\n",
            "[nltk_data]   Package punkt is already up-to-date!\n"
          ]
        }
      ],
      "source": [
        "import pandas as pd\n",
        "import nltk\n",
        "nltk.download('punkt')\n",
        "\n",
        "# Reading Gaze4Hate Original Sentences\n",
        "orig_sentence_file = \"gaze4hate_sentences_to_annotate.xlsx\"\n",
        "orig_sent_df = pd.read_excel(open(orig_sentence_file, 'rb'), sheet_name='stimuli')\n",
        "orig_sent_df= orig_sent_df.loc[orig_sent_df['Cond_remark']!='fam']"
      ]
    },
    {
      "cell_type": "code",
      "execution_count": null,
      "metadata": {
        "colab": {
          "base_uri": "https://localhost:8080/"
        },
        "id": "TH6aFmxnTmRy",
        "outputId": "7cfa85e1-698b-4707-b2e7-7063a2389483"
      },
      "outputs": [],
      "source": [
        "### Task 1: Data Exploration\n",
        "joined_data = ''.join(orig_sent_df['processed_assertion'].tolist())\n",
        "joined_data = joined_data.replace(',', ' , ').replace('.', ' . ')\n",
        "tokens1 = joined_data.split()\n",
        "print(tokens1)\n",
        "num_tokens1 = len(tokens1)\n",
        "types1 = set(tokens1)\n",
        "num_types1 = len(types1)\n",
        "print(f\"Token的数量：{num_tokens1}\")\n",
        "print(f\"Type的数量：{num_types1}\")\n",
        "\n",
        "# with NLTK\n",
        "tokens = nltk.word_tokenize(joined_data)\n",
        "print(tokens)\n",
        "num_tokens = len(tokens)\n",
        "types = set(tokens)\n",
        "num_types = len(types)\n",
        "print(f\"Token的数量：{num_tokens}\")\n",
        "print(f\"Type的数量：{num_types}\")"
      ]
    },
    {
      "cell_type": "code",
      "execution_count": null,
      "metadata": {
        "colab": {
          "base_uri": "https://localhost:8080/"
        },
        "id": "7LiGd7wqT3oI",
        "outputId": "e266c07b-a6f5-4a07-f845-a0c7927421f0"
      },
      "outputs": [
        {
          "name": "stdout",
          "output_type": "stream",
          "text": [
            "最大句子长度（以词为单位）：16\n",
            "最小句子长度（以词为单位）：4\n",
            "平均句子长度（以词为单位）：8.266666666666667\n"
          ]
        }
      ],
      "source": [
        "data = orig_sent_df['processed_assertion'].tolist()\n",
        "lengths = [len(nltk.word_tokenize(sentence)) for sentence in data]\n",
        "\n",
        "max_length = max(lengths)\n",
        "min_length = min(lengths)\n",
        "avg_length = sum(lengths) / len(lengths)\n",
        "\n",
        "print(f\"最大句子长度（以词为单位）：{max_length}\")\n",
        "print(f\"最小句子长度（以词为单位）：{min_length}\")\n",
        "print(f\"平均句子长度（以词为单位）：{avg_length}\")"
      ]
    },
    {
      "cell_type": "code",
      "execution_count": 64,
      "metadata": {
        "colab": {
          "base_uri": "https://localhost:8080/"
        },
        "id": "9pKqNbHSCRYv",
        "outputId": "09312d05-b925-4bc1-8b0e-10d1fef3ff38"
      },
      "outputs": [
        {
          "name": "stdout",
          "output_type": "stream",
          "text": [
            "['implicit', 'implicit', 'implicit', 'implicit', 'explicit', 'explicit', 'implicit', 'explicit', 'explicit', 'implicit', 'implicit', 'explicit', 'explicit', 'implicit', 'implicit', 'implicit', 'explicit', 'implicit', 'implicit', 'implicit', 'implicit', 'explicit', 'implicit', 'explicit', 'implicit', 'implicit', 'implicit', 'implicit', 'explicit', 'explicit', 'implicit', 'other', 'implicit', 'implicit', 'other', 'other', 'implicit', 'implicit', 'implicit', 'implicit', 'explicit', 'explicit', 'explicit', 'explicit', 'explicit', 'explicit', 'implicit', 'other', 'implicit', 'explicit', 'explicit', 'implicit', 'explicit', 'other', 'explicit', 'explicit', 'implicit', 'explicit', 'explicit', 'implicit', 'explicit', 'explicit', 'explicit', 'other', 'explicit', 'other', 'other', 'other', 'implicit', 'other', 'implicit', 'implicit', 'explicit', 'implicit', 'explicit', 'explicit', 'implicit', 'explicit', 'explicit', 'implicit', 'implicit', 'implicit', 'implicit', 'implicit', 'implicit', 'implicit', 'explicit', 'explicit', 'implicit', 'implicit']\n",
            "Krippendorff's Alpha is 0.23770809136662796\n"
          ]
        }
      ],
      "source": [
        "### Task 2: Evaluate interrater Agreement\n",
        "from statsmodels.stats.inter_rater import fleiss_kappa\n",
        "import krippendorff\n",
        "import numpy as np\n",
        "from sklearn.metrics import confusion_matrix, ConfusionMatrixDisplay\n",
        "\n",
        "\n",
        "with open('annotated_sentences_li.txt', 'r') as file_li:\n",
        "  data_li = eval(file_li.read())\n",
        "  #print(data)\n",
        "\n",
        "with open('annotated_sentences_xiong.txt', 'r') as file_xiong:\n",
        "  data_xiong = eval(file_xiong.read())\n",
        "\n",
        "\n",
        "\n",
        "with open('gaze4hate_sentences_to_annotate_together.xlsx', 'r', encoding='iso-8859-1') as file_other_group:\n",
        "  data_other_group = pd.read_excel('gaze4hate_sentences_to_annotate_together.xlsx')\n",
        "\n",
        "\n",
        "\n",
        "annotation_sifan = [str(item) for item in data_other_group['Annotator_Sifan'] .tolist()]\n",
        "annotation_nk = [str(item) for item in data_other_group[\"Annotator_nk\"].tolist()]\n",
        "annotation_nizar= [str(item) for item in data_other_group[\"Annotator_nizar\"].tolist()]\n",
        "annotation_li = [item[1] for item in data_li]\n",
        "annotation_xiong = [item[1] for item in data_xiong]\n",
        "annotation_gold = [str(item) for item in data_other_group['Gold Label'] .tolist()]\n",
        "\n",
        "\n",
        "#print(annotation_li)\n",
        "#print(annotation_sifan)\n",
        "print(annotation_nizar)\n",
        "# 将列表转换为数值，因为 Krippendorff's Alpha 需要数值输入\n",
        "# 这里我们简单地将每个类别映射到一个整数\n",
        "mapping = {'implicit': 1, 'explicit': 2, 'other': 3}\n",
        "list1_numeric = [mapping[item] for item in annotation_li]\n",
        "list2_numeric = [mapping[item] for item in annotation_xiong]\n",
        "list3_numeric = [mapping[item] for item in annotation_sifan]\n",
        "list4_numeric = [mapping[item] for item in annotation_nk]\n",
        "list5_numeric = [mapping[item] for item in annotation_nizar]\n",
        "list6_numeric = [mapping[item] for item in annotation_gold]\n",
        "# 将两个列表组合成一个矩阵\n",
        "matrix = np.array([list5_numeric,list7_numeric])\n",
        "\n",
        "# 计算 Krippendorff's Alpha\n",
        "alpha = krippendorff.alpha(matrix)\n",
        "print(f\"Krippendorff's Alpha is {alpha}\")"
      ]
    },
    {
      "cell_type": "code",
      "execution_count": 37,
      "metadata": {},
      "outputs": [
        {
          "name": "stdout",
          "output_type": "stream",
          "text": [
            "['implicit', 'implicit', 'implicit', 'implicit', 'explicit', 'explicit', 'explicit', 'explicit', 'explicit', 'implicit', 'implicit', 'explicit', 'implicit', 'implicit', 'implicit', 'implicit', 'implicit', 'implicit', 'implicit', 'implicit', 'implicit', 'other', 'other', 'explicit', 'other', 'other', 'other', 'other', 'other', 'explicit', 'implicit', 'implicit', 'implicit', 'implicit', 'implicit', 'other', 'implicit', 'implicit', 'implicit', 'implicit', 'explicit', 'explicit', 'explicit', 'explicit', 'explicit', 'explicit', 'implicit', 'implicit', 'implicit', 'implicit', 'explicit', 'other', 'other', 'other', 'other', 'other', 'other', 'explicit', 'other', 'other', 'other', 'other', 'other', 'other', 'other', 'other', 'other', 'other', 'other', 'other', 'implicit', 'implicit', 'other', 'implicit', 'explicit', 'explicit', 'implicit', 'explicit', 'explicit', 'other', 'implicit', 'other', 'implicit', 'other', 'explicit', 'other', 'explicit', 'explicit', 'other', 'other']\n"
          ]
        }
      ],
      "source": [
        "from collections import Counter\n",
        "\n",
        "# 五组数据的分类结果列表\n",
        "classifications = [annotation_li, annotation_xiong, annotation_sifan, annotation_nk, annotation_nizar]\n",
        "\n",
        "# 进行多数投票\n",
        "majority_voted_classifications = []\n",
        "for i in range(len(annotation_li)):\n",
        "    votes = [classifications[j][i] for j in range(len(classifications))]\n",
        "    majority_vote = Counter(votes).most_common(1)[0][0]\n",
        "    majority_voted_classifications.append(majority_vote)\n",
        "\n",
        "print(majority_voted_classifications)\n"
      ]
    },
    {
      "cell_type": "code",
      "execution_count": 38,
      "metadata": {},
      "outputs": [],
      "source": [
        "data_other_group['Majority_Voted_Classification'] = majority_voted_classifications\n",
        "\n",
        "# 将修改后的 DataFrame 保存回 Excel 表格\n",
        "data_other_group.to_excel('gaze4hate_sentences_to_annotate_together.xlsx', index=False)\n"
      ]
    },
    {
      "cell_type": "code",
      "execution_count": 39,
      "metadata": {},
      "outputs": [],
      "source": [
        "list7_numeric = [mapping[item] for item in majority_voted_classifications]\n"
      ]
    },
    {
      "cell_type": "code",
      "execution_count": 66,
      "metadata": {},
      "outputs": [
        {
          "name": "stdout",
          "output_type": "stream",
          "text": [
            "Krippendorff's Alpha is 0.12354715861318566\n"
          ]
        }
      ],
      "source": [
        "matrix = np.array([list7_numeric, list6_numeric])\n",
        "\n",
        "# 计算 Krippendorff's Alpha\n",
        "alpha = krippendorff.alpha(matrix)\n",
        "print(f\"Krippendorff's Alpha is {alpha}\")"
      ]
    },
    {
      "cell_type": "code",
      "execution_count": 43,
      "metadata": {},
      "outputs": [],
      "source": [
        "\n",
        "# 将新列数据添加为 DataFrame 的新列\n",
        "data_other_group['annotation_li'] = annotation_li\n",
        "data_other_group['annotation_xiong']= annotation_xiong\n",
        "# 保存修改后的 DataFrame 到 Excel 文件\n",
        "data_other_group.to_excel('gaze4hate_sentences_to_annotate_together.xlsx', index=False)"
      ]
    },
    {
      "cell_type": "code",
      "execution_count": 92,
      "metadata": {},
      "outputs": [
        {
          "name": "stdout",
          "output_type": "stream",
          "text": [
            "Confusion Matrix:\n",
            "[[5 5]\n",
            " [1 9]]\n",
            "Accuracy: 0.7\n",
            "Precision: 0.6428571428571429\n",
            "Recall: 0.9\n",
            "F1 Score: 0.75\n"
          ]
        }
      ],
      "source": [
        "from sklearn.metrics import confusion_matrix\n",
        "\n",
        "\n",
        "# 筛选出 'hate_w_high' 类别的数据\n",
        "hate_w_high_data = data_other_group[data_other_group['Cond_remark'] == 'hate_w_high']\n",
        "\n",
        "# 计算混淆矩阵\n",
        "conf_matrix = confusion_matrix(hate_w_high_data['Gold Label'], hate_w_high_data['Majority_Voted_Classification'])\n",
        "\n",
        "# 打印结果\n",
        "print(\"Confusion Matrix:\")\n",
        "print(conf_matrix)\n",
        "\n",
        "# 计算准确率\n",
        "accuracy = (conf_matrix[0, 0] + conf_matrix[1, 1]) / np.sum(conf_matrix)\n",
        "\n",
        "# 计算精度\n",
        "precision = conf_matrix[1, 1] / (conf_matrix[1, 1] + conf_matrix[0, 1])\n",
        "\n",
        "# 计算召回率\n",
        "recall = conf_matrix[1, 1] / (conf_matrix[1, 1] + conf_matrix[1, 0])\n",
        "\n",
        "# 计算 F1 分数\n",
        "f1 = 2 * precision * recall / (precision + recall)\n",
        "\n",
        "# 打印结果\n",
        "print(\"Accuracy:\", accuracy)\n",
        "print(\"Precision:\", precision)\n",
        "print(\"Recall:\", recall)\n",
        "print(\"F1 Score:\", f1)\n",
        "\n",
        "\n"
      ]
    },
    {
      "cell_type": "code",
      "execution_count": 93,
      "metadata": {},
      "outputs": [
        {
          "data": {
            "image/png": "[encoded data removed]",
            "text/plain": [
              "<Figure size 576x432 with 2 Axes>"
            ]
          },
          "metadata": {
            "needs_background": "light"
          },
          "output_type": "display_data"
        }
      ],
      "source": [
        "import matplotlib.pyplot as plt\n",
        "import seaborn as sns\n",
        "\n",
        "# 绘制混淆矩阵\n",
        "plt.figure(figsize=(8, 6))\n",
        "sns.heatmap(conf_matrix, annot=True, cmap='Blues', fmt='g', xticklabels=['explicit', 'implicit', 'other'], yticklabels=['explicit', 'implicit', 'other'])\n",
        "plt.xlabel('Predicted Label')\n",
        "plt.ylabel('True Label')\n",
        "plt.title('Confusion Matrix')\n",
        "plt.show()\n"
      ]
    },
    {
      "cell_type": "code",
      "execution_count": 90,
      "metadata": {},
      "outputs": [
        {
          "name": "stdout",
          "output_type": "stream",
          "text": [
            "Confusion Matrix:\n",
            "[[2 1 1]\n",
            " [0 0 1]\n",
            " [0 0 5]]\n",
            "Accuracy: 0.2\n",
            "Precision: 0.0\n",
            "Recall: nan\n",
            "F1 Score: nan\n"
          ]
        },
        {
          "name": "stderr",
          "output_type": "stream",
          "text": [
            "/var/folders/mw/gw6mcst16fx2qzm_dp7wqtn40000gn/T/ipykernel_2666/3216450242.py:24: RuntimeWarning: invalid value encountered in scalar divide\n",
            "  recall = conf_matrix[1, 1] / (conf_matrix[1, 1] + conf_matrix[1, 0])\n"
          ]
        }
      ],
      "source": [
        "from sklearn.metrics import confusion_matrix\n",
        "\n",
        "# 初步筛选数据\n",
        "no_hate_w_data = data_other_group[data_other_group['Cond_remark'] == 'no_hate_w']\n",
        "\n",
        "# 提取 Gold Label 和 Majority_Voted_Classification 列的数据\n",
        "gold_labels = no_hate_w_data['Gold Label']\n",
        "predicted_labels = no_hate_w_data['Majority_Voted_Classification']\n",
        "\n",
        "# 计算混淆矩阵\n",
        "conf_matrix = confusion_matrix(gold_labels, predicted_labels)\n",
        "\n",
        "# 打印混淆矩阵\n",
        "print(\"Confusion Matrix:\")\n",
        "print(conf_matrix)\n",
        "\n",
        "# 计算准确率\n",
        "accuracy = (conf_matrix[0, 0] + conf_matrix[1, 1]) / np.sum(conf_matrix)\n",
        "\n",
        "# 计算精度\n",
        "precision = conf_matrix[1, 1] / (conf_matrix[1, 1] + conf_matrix[0, 1])\n",
        "\n",
        "# 计算召回率\n",
        "recall = conf_matrix[1, 1] / (conf_matrix[1, 1] + conf_matrix[1, 0])\n",
        "\n",
        "# 计算 F1 分数\n",
        "f1 = 2 * precision * recall / (precision + recall)\n",
        "\n",
        "# 打印结果\n",
        "print(\"Accuracy:\", accuracy)\n",
        "print(\"Precision:\", precision)\n",
        "print(\"Recall:\", recall)\n",
        "print(\"F1 Score:\", f1)\n",
        "\n"
      ]
    },
    {
      "cell_type": "code",
      "execution_count": 91,
      "metadata": {},
      "outputs": [
        {
          "data": {
            "image/png": "[encoded data removed]",
            "text/plain": [
              "<Figure size 576x432 with 2 Axes>"
            ]
          },
          "metadata": {
            "needs_background": "light"
          },
          "output_type": "display_data"
        }
      ],
      "source": [
        "import matplotlib.pyplot as plt\n",
        "import seaborn as sns\n",
        "\n",
        "# 绘制混淆矩阵\n",
        "plt.figure(figsize=(8, 6))\n",
        "sns.heatmap(conf_matrix, annot=True, cmap='Blues', fmt='g', xticklabels=['explicit', 'implicit', 'other'], yticklabels=['explicit', 'implicit', 'other'])\n",
        "plt.xlabel('Predicted Label')\n",
        "plt.ylabel('True Label')\n",
        "plt.title('Confusion Matrix')\n",
        "plt.show()\n"
      ]
    },
    {
      "cell_type": "code",
      "execution_count": 88,
      "metadata": {},
      "outputs": [
        {
          "name": "stdout",
          "output_type": "stream",
          "text": [
            "Confusion Matrix:\n",
            "[[0 4 0]\n",
            " [0 3 0]\n",
            " [0 2 1]]\n",
            "Accuracy: 0.3\n",
            "Precision: 0.42857142857142855\n",
            "Recall: 1.0\n",
            "F1 Score: 0.6\n"
          ]
        }
      ],
      "source": [
        "from sklearn.metrics import confusion_matrix\n",
        "\n",
        "# 初步筛选数据\n",
        "no_hate_w_data = data_other_group[data_other_group['Cond_remark'] == 'hate_w_med']\n",
        "\n",
        "# 提取 Gold Label 和 Majority_Voted_Classification 列的数据\n",
        "gold_labels = no_hate_w_data['Gold Label']\n",
        "predicted_labels = no_hate_w_data['Majority_Voted_Classification']\n",
        "\n",
        "# 计算混淆矩阵\n",
        "conf_matrix = confusion_matrix(gold_labels, predicted_labels)\n",
        "\n",
        "# 打印混淆矩阵\n",
        "print(\"Confusion Matrix:\")\n",
        "print(conf_matrix)\n",
        "\n",
        "# 计算准确率\n",
        "accuracy = (conf_matrix[0, 0] + conf_matrix[1, 1]) / np.sum(conf_matrix)\n",
        "\n",
        "# 计算精度\n",
        "precision = conf_matrix[1, 1] / (conf_matrix[1, 1] + conf_matrix[0, 1])\n",
        "\n",
        "# 计算召回率\n",
        "recall = conf_matrix[1, 1] / (conf_matrix[1, 1] + conf_matrix[1, 0])\n",
        "\n",
        "# 计算 F1 分数\n",
        "f1 = 2 * precision * recall / (precision + recall)\n",
        "\n",
        "# 打印结果\n",
        "print(\"Accuracy:\", accuracy)\n",
        "print(\"Precision:\", precision)\n",
        "print(\"Recall:\", recall)\n",
        "print(\"F1 Score:\", f1)\n",
        "\n"
      ]
    },
    {
      "cell_type": "code",
      "execution_count": 89,
      "metadata": {},
      "outputs": [
        {
          "data": {
            "image/png": "[encoded data removed]",
            "text/plain": [
              "<Figure size 576x432 with 2 Axes>"
            ]
          },
          "metadata": {
            "needs_background": "light"
          },
          "output_type": "display_data"
        }
      ],
      "source": [
        "import matplotlib.pyplot as plt\n",
        "import seaborn as sns\n",
        "\n",
        "# 绘制混淆矩阵\n",
        "plt.figure(figsize=(8, 6))\n",
        "sns.heatmap(conf_matrix, annot=True, cmap='Blues', fmt='g', xticklabels=['explicit', 'implicit', 'other'], yticklabels=['explicit', 'implicit', 'other'])\n",
        "plt.xlabel('Predicted Label')\n",
        "plt.ylabel('True Label')\n",
        "plt.title('Confusion Matrix')\n",
        "plt.show()\n"
      ]
    },
    {
      "cell_type": "code",
      "execution_count": 86,
      "metadata": {},
      "outputs": [
        {
          "name": "stdout",
          "output_type": "stream",
          "text": [
            "Confusion Matrix:\n",
            "[[5 0]\n",
            " [1 4]]\n",
            "Accuracy: 0.9\n",
            "Precision: 1.0\n",
            "Recall: 0.8\n",
            "F1 Score: 0.888888888888889\n"
          ]
        }
      ],
      "source": [
        "from sklearn.metrics import confusion_matrix\n",
        "\n",
        "# 初步筛选数据\n",
        "no_hate_w_data = data_other_group[data_other_group['Cond_remark'] == 'hate_m']\n",
        "\n",
        "# 提取 Gold Label 和 Majority_Voted_Classification 列的数据\n",
        "gold_labels = no_hate_w_data['Gold Label']\n",
        "predicted_labels = no_hate_w_data['Majority_Voted_Classification']\n",
        "\n",
        "# 计算混淆矩阵\n",
        "conf_matrix = confusion_matrix(gold_labels, predicted_labels)\n",
        "\n",
        "# 打印混淆矩阵\n",
        "print(\"Confusion Matrix:\")\n",
        "print(conf_matrix)\n",
        "\n",
        "# 计算准确率\n",
        "accuracy = (conf_matrix[0, 0] + conf_matrix[1, 1]) / np.sum(conf_matrix)\n",
        "\n",
        "# 计算精度\n",
        "precision = conf_matrix[1, 1] / (conf_matrix[1, 1] + conf_matrix[0, 1])\n",
        "\n",
        "# 计算召回率\n",
        "recall = conf_matrix[1, 1] / (conf_matrix[1, 1] + conf_matrix[1, 0])\n",
        "\n",
        "# 计算 F1 分数\n",
        "f1 = 2 * precision * recall / (precision + recall)\n",
        "\n",
        "# 打印结果\n",
        "print(\"Accuracy:\", accuracy)\n",
        "print(\"Precision:\", precision)\n",
        "print(\"Recall:\", recall)\n",
        "print(\"F1 Score:\", f1)\n",
        "\n"
      ]
    },
    {
      "cell_type": "code",
      "execution_count": 87,
      "metadata": {},
      "outputs": [
        {
          "data": {
            "image/png": "[encoded data removed]",
            "text/plain": [
              "<Figure size 576x432 with 2 Axes>"
            ]
          },
          "metadata": {
            "needs_background": "light"
          },
          "output_type": "display_data"
        }
      ],
      "source": [
        "import matplotlib.pyplot as plt\n",
        "import seaborn as sns\n",
        "\n",
        "# 绘制混淆矩阵\n",
        "plt.figure(figsize=(8, 6))\n",
        "sns.heatmap(conf_matrix, annot=True, cmap='Blues', fmt='g', xticklabels=['explicit', 'implicit', 'other'], yticklabels=['explicit', 'implicit', 'other'])\n",
        "plt.xlabel('Predicted Label')\n",
        "plt.ylabel('True Label')\n",
        "plt.title('Confusion Matrix')\n",
        "plt.show()\n"
      ]
    },
    {
      "cell_type": "code",
      "execution_count": 84,
      "metadata": {},
      "outputs": [
        {
          "name": "stdout",
          "output_type": "stream",
          "text": [
            "Confusion Matrix:\n",
            "[[ 2  0  5]\n",
            " [ 0  0 10]\n",
            " [ 0  0  3]]\n",
            "Accuracy: 0.1\n",
            "Precision: nan\n",
            "Recall: nan\n",
            "F1 Score: nan\n"
          ]
        },
        {
          "name": "stderr",
          "output_type": "stream",
          "text": [
            "/var/folders/mw/gw6mcst16fx2qzm_dp7wqtn40000gn/T/ipykernel_2666/1982260007.py:21: RuntimeWarning: invalid value encountered in scalar divide\n",
            "  precision = conf_matrix[1, 1] / (conf_matrix[1, 1] + conf_matrix[0, 1])\n",
            "/var/folders/mw/gw6mcst16fx2qzm_dp7wqtn40000gn/T/ipykernel_2666/1982260007.py:24: RuntimeWarning: invalid value encountered in scalar divide\n",
            "  recall = conf_matrix[1, 1] / (conf_matrix[1, 1] + conf_matrix[1, 0])\n"
          ]
        }
      ],
      "source": [
        "from sklearn.metrics import confusion_matrix\n",
        "\n",
        "# 初步筛选数据\n",
        "no_hate_w_data = data_other_group[data_other_group['Cond_remark'] == 'neutral_w']\n",
        "\n",
        "# 提取 Gold Label 和 Majority_Voted_Classification 列的数据\n",
        "gold_labels = no_hate_w_data['Gold Label']\n",
        "predicted_labels = no_hate_w_data['Majority_Voted_Classification']\n",
        "\n",
        "# 计算混淆矩阵\n",
        "conf_matrix = confusion_matrix(gold_labels, predicted_labels)\n",
        "\n",
        "# 打印混淆矩阵\n",
        "print(\"Confusion Matrix:\")\n",
        "print(conf_matrix)\n",
        "\n",
        "# 计算准确率\n",
        "accuracy = (conf_matrix[0, 0] + conf_matrix[1, 1]) / np.sum(conf_matrix)\n",
        "\n",
        "# 计算精度\n",
        "precision = conf_matrix[1, 1] / (conf_matrix[1, 1] + conf_matrix[0, 1])\n",
        "\n",
        "# 计算召回率\n",
        "recall = conf_matrix[1, 1] / (conf_matrix[1, 1] + conf_matrix[1, 0])\n",
        "\n",
        "# 计算 F1 分数\n",
        "f1 = 2 * precision * recall / (precision + recall)\n",
        "\n",
        "# 打印结果\n",
        "print(\"Accuracy:\", accuracy)\n",
        "print(\"Precision:\", precision)\n",
        "print(\"Recall:\", recall)\n",
        "print(\"F1 Score:\", f1)\n",
        "\n"
      ]
    },
    {
      "cell_type": "code",
      "execution_count": 85,
      "metadata": {},
      "outputs": [
        {
          "data": {
            "image/png": "[encoded data removed]",
            "text/plain": [
              "<Figure size 576x432 with 2 Axes>"
            ]
          },
          "metadata": {
            "needs_background": "light"
          },
          "output_type": "display_data"
        }
      ],
      "source": [
        "import matplotlib.pyplot as plt\n",
        "import seaborn as sns\n",
        "\n",
        "# 绘制混淆矩阵\n",
        "plt.figure(figsize=(8, 6))\n",
        "sns.heatmap(conf_matrix, annot=True, cmap='Blues', fmt='g', xticklabels=['explicit', 'implicit', 'other'], yticklabels=['explicit', 'implicit', 'other'])\n",
        "plt.xlabel('Predicted Label')\n",
        "plt.ylabel('True Label')\n",
        "plt.title('Confusion Matrix')\n",
        "plt.show()\n"
      ]
    },
    {
      "cell_type": "code",
      "execution_count": 82,
      "metadata": {},
      "outputs": [
        {
          "name": "stdout",
          "output_type": "stream",
          "text": [
            "Confusion Matrix:\n",
            "[[4 4 2]\n",
            " [3 2 5]\n",
            " [0 0 0]]\n",
            "Accuracy: 0.3\n",
            "Precision: 0.3333333333333333\n",
            "Recall: 0.4\n",
            "F1 Score: 0.3636363636363636\n"
          ]
        }
      ],
      "source": [
        "from sklearn.metrics import confusion_matrix\n",
        "\n",
        "# 初步筛选数据\n",
        "no_hate_w_data = data_other_group[data_other_group['Cond_remark'] == 'pos_w']\n",
        "\n",
        "# 提取 Gold Label 和 Majority_Voted_Classification 列的数据\n",
        "gold_labels = no_hate_w_data['Gold Label']\n",
        "predicted_labels = no_hate_w_data['Majority_Voted_Classification']\n",
        "\n",
        "# 计算混淆矩阵\n",
        "conf_matrix = confusion_matrix(gold_labels, predicted_labels)\n",
        "\n",
        "# 打印混淆矩阵\n",
        "print(\"Confusion Matrix:\")\n",
        "print(conf_matrix)\n",
        "\n",
        "# 计算准确率\n",
        "accuracy = (conf_matrix[0, 0] + conf_matrix[1, 1]) / np.sum(conf_matrix)\n",
        "\n",
        "# 计算精度\n",
        "precision = conf_matrix[1, 1] / (conf_matrix[1, 1] + conf_matrix[0, 1])\n",
        "\n",
        "# 计算召回率\n",
        "recall = conf_matrix[1, 1] / (conf_matrix[1, 1] + conf_matrix[1, 0])\n",
        "\n",
        "# 计算 F1 分数\n",
        "f1 = 2 * precision * recall / (precision + recall)\n",
        "\n",
        "# 打印结果\n",
        "print(\"Accuracy:\", accuracy)\n",
        "print(\"Precision:\", precision)\n",
        "print(\"Recall:\", recall)\n",
        "print(\"F1 Score:\", f1)\n",
        "\n"
      ]
    },
    {
      "cell_type": "code",
      "execution_count": 83,
      "metadata": {},
      "outputs": [
        {
          "data": {
            "image/png": "[encoded data removed]",
            "text/plain": [
              "<Figure size 576x432 with 2 Axes>"
            ]
          },
          "metadata": {
            "needs_background": "light"
          },
          "output_type": "display_data"
        }
      ],
      "source": [
        "import matplotlib.pyplot as plt\n",
        "import seaborn as sns\n",
        "\n",
        "# 绘制混淆矩阵\n",
        "plt.figure(figsize=(8, 6))\n",
        "sns.heatmap(conf_matrix, annot=True, cmap='Blues', fmt='g', xticklabels=['explicit', 'implicit', 'other'], yticklabels=['explicit', 'implicit', 'other'])\n",
        "plt.xlabel('Predicted Label')\n",
        "plt.ylabel('True Label')\n",
        "plt.title('Confusion Matrix')\n",
        "plt.show()\n"
      ]
    },
    {
      "cell_type": "code",
      "execution_count": 94,
      "metadata": {},
      "outputs": [
        {
          "name": "stdout",
          "output_type": "stream",
          "text": [
            "Accuracy when Gold Label is implicit: 0.46153846153846156\n"
          ]
        }
      ],
      "source": [
        "# 筛选出 Gold Label 列为 implicit 的行\n",
        "implicit_data = data_other_group[data_other_group['Gold Label'] == 'implicit']\n",
        "\n",
        "# 计算 Majority_Voted_Classification 列与 Gold Label 列相匹配的行数\n",
        "matching_rows = implicit_data[implicit_data['Majority_Voted_Classification'] == 'implicit']\n",
        "\n",
        "# 计算正确率\n",
        "accuracy = len(matching_rows) / len(implicit_data)\n",
        "\n",
        "print(\"Accuracy when Gold Label is implicit:\", accuracy)\n"
      ]
    },
    {
      "cell_type": "code",
      "execution_count": 95,
      "metadata": {},
      "outputs": [
        {
          "name": "stdout",
          "output_type": "stream",
          "text": [
            "Accuracy when Gold Label is explicit: 0.45\n"
          ]
        }
      ],
      "source": [
        "# 筛选出 Gold Label 列为 explicit 的行\n",
        "explicit_data = data_other_group[data_other_group['Gold Label'] == 'explicit']\n",
        "\n",
        "# 计算 Majority_Voted_Classification 列与 Gold Label 列相匹配的行数\n",
        "matching_rows = explicit_data[explicit_data['Majority_Voted_Classification'] == 'explicit']\n",
        "\n",
        "# 计算正确率\n",
        "accuracy = len(matching_rows) / len(explicit_data)\n",
        "\n",
        "print(\"Accuracy when Gold Label is explicit:\", accuracy)\n"
      ]
    },
    {
      "cell_type": "code",
      "execution_count": 96,
      "metadata": {},
      "outputs": [
        {
          "name": "stdout",
          "output_type": "stream",
          "text": [
            "Accuracy when Gold Label is other: 0.8181818181818182\n"
          ]
        }
      ],
      "source": [
        "# 筛选出 Gold Label 列为 other 的行\n",
        "other_data = data_other_group[data_other_group['Gold Label'] == 'other']\n",
        "\n",
        "# 计算 Majority_Voted_Classification 列与 Gold Label 列相匹配的行数\n",
        "matching_rows = other_data[other_data['Majority_Voted_Classification'] == 'other']\n",
        "\n",
        "# 计算正确率\n",
        "accuracy = len(matching_rows) / len(other_data)\n",
        "\n",
        "print(\"Accuracy when Gold Label is other:\", accuracy)\n"
      ]
    },
    {
      "cell_type": "code",
      "execution_count": 5,
      "metadata": {
        "colab": {
          "base_uri": "https://localhost:8080/"
        },
        "id": "x9S3kO36UsZB",
        "outputId": "2c06555f-8eba-431a-f570-844f7eda7f39"
      },
      "outputs": [
        {
          "name": "stdout",
          "output_type": "stream",
          "text": [
            "Fleiss' Kappa is 0.521512257556365\n"
          ]
        }
      ],
      "source": [
        "from statsmodels.stats import inter_rater as irr\n",
        "\n",
        "giro = np.array(matrix).transpose()\n",
        "kappa = irr.fleiss_kappa(irr.aggregate_raters(giro)[0], method='fleiss')\n",
        "print(f\"Fleiss' Kappa is {kappa}\")"
      ]
    }
  ],
  "metadata": {
    "colab": {
      "provenance": []
    },
    "kernelspec": {
      "display_name": "Python 3.9.12 ('base')",
      "language": "python",
      "name": "python3"
    },
    "language_info": {
      "codemirror_mode": {
        "name": "ipython",
        "version": 3
      },
      "file_extension": ".py",
      "mimetype": "text/x-python",
      "name": "python",
      "nbconvert_exporter": "python",
      "pygments_lexer": "ipython3",
      "version": "3.9.12"
    },
    "vscode": {
      "interpreter": {
        "hash": "8cdb6f48ad7023a573f3b4ac02d894012f19afa4ab0de793319e6ac228b4d09b"
      }
    }
  },
  "nbformat": 4,
  "nbformat_minor": 0
}
