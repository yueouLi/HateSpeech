{
 "cells": [
  {
   "cell_type": "markdown",
   "metadata": {},
   "source": [
    "## Multilingual Hate Speech Exercise\n"
   ]
  },
  {
   "cell_type": "code",
   "execution_count": null,
   "metadata": {},
   "outputs": [],
   "source": [
    "# Install the basic package\n",
    "from sklearn.metrics import classification_report\n",
    "import torch\n",
    "import pandas as pd\n",
    "from tqdm import tqdm\n",
    "import transformers\n",
    "from transformers import AutoModelForMaskedLM, AutoModelForSequenceClassification,AutoTokenizer, AutoModel, AutoConfig, utils\n",
    "from transformers import pipeline"
   ]
  },
  {
   "cell_type": "code",
   "execution_count": null,
   "metadata": {},
   "outputs": [],
   "source": [
    "# Choose 2-3 multlingual Hate speech models from the Huggingface platform\n",
    "## call tokenizers and models\n",
    "\n",
    "model_name= \"\" ## fill-in the modelname here one by one, or you can also create a function to read them automatically\n",
    "tokenizer = AutoTokenizer.from_pretrained(model_name)   \n",
    "model = AutoModelForSequenceClassification.from_pretrained(model_name)\n"
   ]
  },
  {
   "cell_type": "code",
   "execution_count": null,
   "metadata": {},
   "outputs": [],
   "source": [
    "### extract your test sets from Multilingual Hate Check repo\n",
    "### first choose 5-7 sets of target language (depending on the languages supported by the huggingface model)\n",
    "### https://github.com/rewire-online/multilingual-hatecheck\n",
    "### extract it as pandas dataframe\n",
    "### create test splits for each language seperately\n"
   ]
  },
  {
   "cell_type": "code",
   "execution_count": null,
   "metadata": {},
   "outputs": [],
   "source": [
    "### process each language (test file) seperately, process the text, \n",
    "### get the classification for each instance by each model, \n",
    "### write it to the same dataframe as additional columns (one prediction column per model)\n",
    "### calculate evaluation metrics (accuracy, f1 etc.) for ach language"
   ]
  },
  {
   "cell_type": "code",
   "execution_count": null,
   "metadata": {},
   "outputs": [],
   "source": [
    "### plot the scores for each model and each language\n",
    "\n",
    "### and if you are really interested, for each functionality!"
   ]
  },
  {
   "cell_type": "code",
   "execution_count": null,
   "metadata": {},
   "outputs": [],
   "source": []
  }
 ],
 "metadata": {
  "kernelspec": {
   "display_name": ".venv",
   "language": "python",
   "name": "python3"
  },
  "language_info": {
   "codemirror_mode": {
    "name": "ipython",
    "version": 3
   },
   "file_extension": ".py",
   "mimetype": "text/x-python",
   "name": "python",
   "nbconvert_exporter": "python",
   "pygments_lexer": "ipython3",
   "version": "3.9.6"
  }
 },
 "nbformat": 4,
 "nbformat_minor": 2
}
