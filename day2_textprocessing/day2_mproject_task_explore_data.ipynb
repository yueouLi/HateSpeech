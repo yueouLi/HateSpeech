{
 "cells": [
  {
   "cell_type": "markdown",
   "metadata": {},
   "source": [
    "# Mini-project Playground\n",
    "## today, we are going to \n",
    "* (i) explore our data, \n",
    "* (ii) calculate basic statistics,\n",
    "* (iii) write-up the dataset section"
   ]
  },
  {
   "cell_type": "markdown",
   "metadata": {},
   "source": [
    "## Read your dataset file:\n"
   ]
  },
  {
   "cell_type": "code",
   "execution_count": null,
   "metadata": {},
   "outputs": [],
   "source": []
  },
  {
   "cell_type": "markdown",
   "metadata": {},
   "source": [
    "## Look at your label column, \n",
    "* how many classes do you have?\n",
    "* how many instances do you have in each class?\n",
    "* what is the percentage of classes? \n",
    "* do you have balanced/inbalanced corpora?"
   ]
  },
  {
   "cell_type": "markdown",
   "metadata": {},
   "source": [
    "1. 6 / 7\n",
    "2. \n",
    "- hate_w_high: 20 \n",
    "- hate_w_m: 10 \n",
    "- hate_m: 10 \n",
    "-------------------------------\n",
    "- no_hate_w: 10 \n",
    "- neutral_w: 20\n",
    "- pos_w: 20\n",
    "3. 1/9, 2/9\n",
    "4. balanced corpora"
   ]
  },
  {
   "cell_type": "markdown",
   "metadata": {},
   "source": [
    "## Provide text-statistics?\n",
    "* type and token counts\n",
    "* maximum/minumum/average sentence length\n",
    "* what else?"
   ]
  },
  {
   "cell_type": "markdown",
   "metadata": {},
   "source": [
    "1. (\",\" \"#\" are seperate tokens)\n",
    "- Total tokens: 744\n",
    "- Total types: 255\n",
    "2.\n",
    "- Longest sentence: 16 words\n",
    "- Shortest sentence: 4 words\n",
    "- Average words per sentence: 8.27 words"
   ]
  },
  {
   "cell_type": "markdown",
   "metadata": {},
   "source": [
    "## Provide statistics for other festures?\n",
    "* gaze measurements\n",
    "* rationales\n",
    "* confidence scores\n",
    "* hatefulness scores\n",
    "* and any other project-specific features \n",
    "* e.g. project-5 might explain later how the curriculum is created/criteria/the number of items and some text analysis on each category)"
   ]
  },
  {
   "cell_type": "markdown",
   "metadata": {},
   "source": [
    "## Explain the annotation procedure\n",
    "* if possible, provide the annotation instructions in the Appendix\n",
    "* what is the source of the dataset?\n",
    "* how many annotators? \n",
    "* how did you calculate the annotator agrement, score?\n",
    "* maybe some more in-depth analysis of disagrements\n"
   ]
  },
  {
   "cell_type": "markdown",
   "metadata": {},
   "source": [
    "1. Gaze4Hate dataset \n",
    "2. Bielefeld University \n",
    "3. 43\n",
    "4. \n",
    "5. "
   ]
  },
  {
   "cell_type": "code",
   "execution_count": null,
   "metadata": {},
   "outputs": [],
   "source": []
  }
 ],
 "metadata": {
  "kernelspec": {
   "display_name": "Python 3.12.0 64-bit",
   "language": "python",
   "name": "python3"
  },
  "language_info": {
   "name": "python",
   "version": "3.12.0"
  },
  "vscode": {
   "interpreter": {
    "hash": "aee8b7b246df8f9039afb4144a1f6fd8d2ca17a180786b69acc140d282b71a49"
   }
  }
 },
 "nbformat": 4,
 "nbformat_minor": 2
}
