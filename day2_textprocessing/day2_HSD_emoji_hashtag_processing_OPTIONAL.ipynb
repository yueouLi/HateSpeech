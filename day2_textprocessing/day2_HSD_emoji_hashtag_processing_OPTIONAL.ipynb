{
 "cells": [
  {
   "cell_type": "markdown",
   "metadata": {},
   "source": [
    "# Welcome to the Hate Speech Detection Seminar WS23/24\n",
    "\n",
    "Dr. Özge Alaçam \\\n",
    "Email: oezge.alacam@lmu.de\n",
    "\n",
    "Today's Agenda\n",
    "\n",
    "- Tweet processing with a little bit data exploration\n",
    "- Optional Material: Emoji - Hashtag Processing in the supplementary notebook\n",
    "    - Emoji Extraction and Analysis\n",
    "    - Hashtag Split\n",
    "\n"
   ]
  },
  {
   "cell_type": "markdown",
   "metadata": {},
   "source": [
    "--------------------------------------------------------"
   ]
  },
  {
   "cell_type": "markdown",
   "metadata": {},
   "source": [
    "### EMOJI Search, Extraction and Analysis\n",
    "\n",
    "There are various Python libraries developed by researchers or NLP practitioners. Check their documentation and see whether they fit your research's needs!\n",
    "\n",
    "e.g. advertools, demoji, emoji"
   ]
  },
  {
   "cell_type": "code",
   "execution_count": 1,
   "metadata": {},
   "outputs": [],
   "source": [
    "import pandas as pd"
   ]
  },
  {
   "cell_type": "code",
   "execution_count": 29,
   "metadata": {},
   "outputs": [],
   "source": [
    "#!pip install advertools"
   ]
  },
  {
   "cell_type": "code",
   "execution_count": 30,
   "metadata": {},
   "outputs": [
    {
     "data": {
      "text/html": [
       "<div>\n",
       "<style scoped>\n",
       "    .dataframe tbody tr th:only-of-type {\n",
       "        vertical-align: middle;\n",
       "    }\n",
       "\n",
       "    .dataframe tbody tr th {\n",
       "        vertical-align: top;\n",
       "    }\n",
       "\n",
       "    .dataframe thead th {\n",
       "        text-align: right;\n",
       "    }\n",
       "</style>\n",
       "<table border=\"1\" class=\"dataframe\">\n",
       "  <thead>\n",
       "    <tr style=\"text-align: right;\">\n",
       "      <th></th>\n",
       "      <th>codepoint</th>\n",
       "      <th>status</th>\n",
       "      <th>emoji</th>\n",
       "      <th>name</th>\n",
       "      <th>group</th>\n",
       "      <th>sub_group</th>\n",
       "    </tr>\n",
       "  </thead>\n",
       "  <tbody>\n",
       "    <tr>\n",
       "      <th>0</th>\n",
       "      <td>1F951</td>\n",
       "      <td>fully-qualified</td>\n",
       "      <td>🥑</td>\n",
       "      <td>avocado</td>\n",
       "      <td>Food &amp; Drink</td>\n",
       "      <td>food-vegetable</td>\n",
       "    </tr>\n",
       "    <tr>\n",
       "      <th>1</th>\n",
       "      <td>1F346</td>\n",
       "      <td>fully-qualified</td>\n",
       "      <td>🍆</td>\n",
       "      <td>eggplant</td>\n",
       "      <td>Food &amp; Drink</td>\n",
       "      <td>food-vegetable</td>\n",
       "    </tr>\n",
       "    <tr>\n",
       "      <th>2</th>\n",
       "      <td>1F954</td>\n",
       "      <td>fully-qualified</td>\n",
       "      <td>🥔</td>\n",
       "      <td>potato</td>\n",
       "      <td>Food &amp; Drink</td>\n",
       "      <td>food-vegetable</td>\n",
       "    </tr>\n",
       "    <tr>\n",
       "      <th>3</th>\n",
       "      <td>1F955</td>\n",
       "      <td>fully-qualified</td>\n",
       "      <td>🥕</td>\n",
       "      <td>carrot</td>\n",
       "      <td>Food &amp; Drink</td>\n",
       "      <td>food-vegetable</td>\n",
       "    </tr>\n",
       "    <tr>\n",
       "      <th>4</th>\n",
       "      <td>1F33D</td>\n",
       "      <td>fully-qualified</td>\n",
       "      <td>🌽</td>\n",
       "      <td>ear of corn</td>\n",
       "      <td>Food &amp; Drink</td>\n",
       "      <td>food-vegetable</td>\n",
       "    </tr>\n",
       "  </tbody>\n",
       "</table>\n",
       "</div>"
      ],
      "text/plain": [
       "  codepoint           status emoji         name         group       sub_group\n",
       "0     1F951  fully-qualified     🥑      avocado  Food & Drink  food-vegetable\n",
       "1     1F346  fully-qualified     🍆     eggplant  Food & Drink  food-vegetable\n",
       "2     1F954  fully-qualified     🥔       potato  Food & Drink  food-vegetable\n",
       "3     1F955  fully-qualified     🥕       carrot  Food & Drink  food-vegetable\n",
       "4     1F33D  fully-qualified     🌽  ear of corn  Food & Drink  food-vegetable"
      ]
     },
     "execution_count": 30,
     "metadata": {},
     "output_type": "execute_result"
    }
   ],
   "source": [
    "## Package advertools ## https://advertools.readthedocs.io/en/master/advertools.emoji.html\n",
    "#!pip install advertools\n",
    "import advertools as adv \n",
    "\n",
    "vegetable_emoji = adv.emoji_search('vegetable')\n",
    "vegetable_emoji.head()"
   ]
  },
  {
   "cell_type": "code",
   "execution_count": 31,
   "metadata": {},
   "outputs": [
    {
     "data": {
      "text/html": [
       "<div>\n",
       "<style scoped>\n",
       "    .dataframe tbody tr th:only-of-type {\n",
       "        vertical-align: middle;\n",
       "    }\n",
       "\n",
       "    .dataframe tbody tr th {\n",
       "        vertical-align: top;\n",
       "    }\n",
       "\n",
       "    .dataframe thead th {\n",
       "        text-align: right;\n",
       "    }\n",
       "</style>\n",
       "<table border=\"1\" class=\"dataframe\">\n",
       "  <thead>\n",
       "    <tr style=\"text-align: right;\">\n",
       "      <th></th>\n",
       "      <th>codepoint</th>\n",
       "      <th>status</th>\n",
       "      <th>emoji</th>\n",
       "      <th>name</th>\n",
       "      <th>group</th>\n",
       "      <th>sub_group</th>\n",
       "    </tr>\n",
       "  </thead>\n",
       "  <tbody>\n",
       "    <tr>\n",
       "      <th>0</th>\n",
       "      <td>1F435</td>\n",
       "      <td>fully-qualified</td>\n",
       "      <td>🐵</td>\n",
       "      <td>monkey face</td>\n",
       "      <td>Animals &amp; Nature</td>\n",
       "      <td>animal-mammal</td>\n",
       "    </tr>\n",
       "    <tr>\n",
       "      <th>1</th>\n",
       "      <td>1F412</td>\n",
       "      <td>fully-qualified</td>\n",
       "      <td>🐒</td>\n",
       "      <td>monkey</td>\n",
       "      <td>Animals &amp; Nature</td>\n",
       "      <td>animal-mammal</td>\n",
       "    </tr>\n",
       "    <tr>\n",
       "      <th>2</th>\n",
       "      <td>1F98D</td>\n",
       "      <td>fully-qualified</td>\n",
       "      <td>🦍</td>\n",
       "      <td>gorilla</td>\n",
       "      <td>Animals &amp; Nature</td>\n",
       "      <td>animal-mammal</td>\n",
       "    </tr>\n",
       "    <tr>\n",
       "      <th>3</th>\n",
       "      <td>1F9A7</td>\n",
       "      <td>fully-qualified</td>\n",
       "      <td>🦧</td>\n",
       "      <td>orangutan</td>\n",
       "      <td>Animals &amp; Nature</td>\n",
       "      <td>animal-mammal</td>\n",
       "    </tr>\n",
       "    <tr>\n",
       "      <th>4</th>\n",
       "      <td>1F436</td>\n",
       "      <td>fully-qualified</td>\n",
       "      <td>🐶</td>\n",
       "      <td>dog face</td>\n",
       "      <td>Animals &amp; Nature</td>\n",
       "      <td>animal-mammal</td>\n",
       "    </tr>\n",
       "    <tr>\n",
       "      <th>...</th>\n",
       "      <td>...</td>\n",
       "      <td>...</td>\n",
       "      <td>...</td>\n",
       "      <td>...</td>\n",
       "      <td>...</td>\n",
       "      <td>...</td>\n",
       "    </tr>\n",
       "    <tr>\n",
       "      <th>142</th>\n",
       "      <td>2618</td>\n",
       "      <td>unqualified</td>\n",
       "      <td>☘</td>\n",
       "      <td>shamrock</td>\n",
       "      <td>Animals &amp; Nature</td>\n",
       "      <td>plant-other</td>\n",
       "    </tr>\n",
       "    <tr>\n",
       "      <th>143</th>\n",
       "      <td>1F340</td>\n",
       "      <td>fully-qualified</td>\n",
       "      <td>🍀</td>\n",
       "      <td>four leaf clover</td>\n",
       "      <td>Animals &amp; Nature</td>\n",
       "      <td>plant-other</td>\n",
       "    </tr>\n",
       "    <tr>\n",
       "      <th>144</th>\n",
       "      <td>1F341</td>\n",
       "      <td>fully-qualified</td>\n",
       "      <td>🍁</td>\n",
       "      <td>maple leaf</td>\n",
       "      <td>Animals &amp; Nature</td>\n",
       "      <td>plant-other</td>\n",
       "    </tr>\n",
       "    <tr>\n",
       "      <th>145</th>\n",
       "      <td>1F342</td>\n",
       "      <td>fully-qualified</td>\n",
       "      <td>🍂</td>\n",
       "      <td>fallen leaf</td>\n",
       "      <td>Animals &amp; Nature</td>\n",
       "      <td>plant-other</td>\n",
       "    </tr>\n",
       "    <tr>\n",
       "      <th>146</th>\n",
       "      <td>1F343</td>\n",
       "      <td>fully-qualified</td>\n",
       "      <td>🍃</td>\n",
       "      <td>leaf fluttering in wind</td>\n",
       "      <td>Animals &amp; Nature</td>\n",
       "      <td>plant-other</td>\n",
       "    </tr>\n",
       "  </tbody>\n",
       "</table>\n",
       "<p>147 rows × 6 columns</p>\n",
       "</div>"
      ],
      "text/plain": [
       "    codepoint           status emoji                     name  \\\n",
       "0       1F435  fully-qualified     🐵              monkey face   \n",
       "1       1F412  fully-qualified     🐒                   monkey   \n",
       "2       1F98D  fully-qualified     🦍                  gorilla   \n",
       "3       1F9A7  fully-qualified     🦧                orangutan   \n",
       "4       1F436  fully-qualified     🐶                 dog face   \n",
       "..        ...              ...   ...                      ...   \n",
       "142      2618      unqualified     ☘                 shamrock   \n",
       "143     1F340  fully-qualified     🍀         four leaf clover   \n",
       "144     1F341  fully-qualified     🍁               maple leaf   \n",
       "145     1F342  fully-qualified     🍂              fallen leaf   \n",
       "146     1F343  fully-qualified     🍃  leaf fluttering in wind   \n",
       "\n",
       "                group      sub_group  \n",
       "0    Animals & Nature  animal-mammal  \n",
       "1    Animals & Nature  animal-mammal  \n",
       "2    Animals & Nature  animal-mammal  \n",
       "3    Animals & Nature  animal-mammal  \n",
       "4    Animals & Nature  animal-mammal  \n",
       "..                ...            ...  \n",
       "142  Animals & Nature    plant-other  \n",
       "143  Animals & Nature    plant-other  \n",
       "144  Animals & Nature    plant-other  \n",
       "145  Animals & Nature    plant-other  \n",
       "146  Animals & Nature    plant-other  \n",
       "\n",
       "[147 rows x 6 columns]"
      ]
     },
     "execution_count": 31,
     "metadata": {},
     "output_type": "execute_result"
    }
   ],
   "source": [
    "animal_emoji = adv.emoji_search('animal')\n",
    "animal_emoji"
   ]
  },
  {
   "cell_type": "code",
   "execution_count": 32,
   "metadata": {},
   "outputs": [
    {
     "data": {
      "text/html": [
       "<div>\n",
       "<style scoped>\n",
       "    .dataframe tbody tr th:only-of-type {\n",
       "        vertical-align: middle;\n",
       "    }\n",
       "\n",
       "    .dataframe tbody tr th {\n",
       "        vertical-align: top;\n",
       "    }\n",
       "\n",
       "    .dataframe thead th {\n",
       "        text-align: right;\n",
       "    }\n",
       "</style>\n",
       "<table border=\"1\" class=\"dataframe\">\n",
       "  <thead>\n",
       "    <tr style=\"text-align: right;\">\n",
       "      <th></th>\n",
       "      <th>codepoint</th>\n",
       "      <th>status</th>\n",
       "      <th>emoji</th>\n",
       "      <th>name</th>\n",
       "      <th>group</th>\n",
       "      <th>sub_group</th>\n",
       "    </tr>\n",
       "  </thead>\n",
       "  <tbody>\n",
       "    <tr>\n",
       "      <th>0</th>\n",
       "      <td>1F435</td>\n",
       "      <td>fully-qualified</td>\n",
       "      <td>🐵</td>\n",
       "      <td>monkey face</td>\n",
       "      <td>Animals &amp; Nature</td>\n",
       "      <td>animal-mammal</td>\n",
       "    </tr>\n",
       "    <tr>\n",
       "      <th>1</th>\n",
       "      <td>1F412</td>\n",
       "      <td>fully-qualified</td>\n",
       "      <td>🐒</td>\n",
       "      <td>monkey</td>\n",
       "      <td>Animals &amp; Nature</td>\n",
       "      <td>animal-mammal</td>\n",
       "    </tr>\n",
       "    <tr>\n",
       "      <th>2</th>\n",
       "      <td>1F98D</td>\n",
       "      <td>fully-qualified</td>\n",
       "      <td>🦍</td>\n",
       "      <td>gorilla</td>\n",
       "      <td>Animals &amp; Nature</td>\n",
       "      <td>animal-mammal</td>\n",
       "    </tr>\n",
       "    <tr>\n",
       "      <th>3</th>\n",
       "      <td>1F9A7</td>\n",
       "      <td>fully-qualified</td>\n",
       "      <td>🦧</td>\n",
       "      <td>orangutan</td>\n",
       "      <td>Animals &amp; Nature</td>\n",
       "      <td>animal-mammal</td>\n",
       "    </tr>\n",
       "    <tr>\n",
       "      <th>4</th>\n",
       "      <td>1F436</td>\n",
       "      <td>fully-qualified</td>\n",
       "      <td>🐶</td>\n",
       "      <td>dog face</td>\n",
       "      <td>Animals &amp; Nature</td>\n",
       "      <td>animal-mammal</td>\n",
       "    </tr>\n",
       "    <tr>\n",
       "      <th>...</th>\n",
       "      <td>...</td>\n",
       "      <td>...</td>\n",
       "      <td>...</td>\n",
       "      <td>...</td>\n",
       "      <td>...</td>\n",
       "      <td>...</td>\n",
       "    </tr>\n",
       "    <tr>\n",
       "      <th>61</th>\n",
       "      <td>1F9A6</td>\n",
       "      <td>fully-qualified</td>\n",
       "      <td>🦦</td>\n",
       "      <td>otter</td>\n",
       "      <td>Animals &amp; Nature</td>\n",
       "      <td>animal-mammal</td>\n",
       "    </tr>\n",
       "    <tr>\n",
       "      <th>62</th>\n",
       "      <td>1F9A8</td>\n",
       "      <td>fully-qualified</td>\n",
       "      <td>🦨</td>\n",
       "      <td>skunk</td>\n",
       "      <td>Animals &amp; Nature</td>\n",
       "      <td>animal-mammal</td>\n",
       "    </tr>\n",
       "    <tr>\n",
       "      <th>63</th>\n",
       "      <td>1F998</td>\n",
       "      <td>fully-qualified</td>\n",
       "      <td>🦘</td>\n",
       "      <td>kangaroo</td>\n",
       "      <td>Animals &amp; Nature</td>\n",
       "      <td>animal-mammal</td>\n",
       "    </tr>\n",
       "    <tr>\n",
       "      <th>64</th>\n",
       "      <td>1F9A1</td>\n",
       "      <td>fully-qualified</td>\n",
       "      <td>🦡</td>\n",
       "      <td>badger</td>\n",
       "      <td>Animals &amp; Nature</td>\n",
       "      <td>animal-mammal</td>\n",
       "    </tr>\n",
       "    <tr>\n",
       "      <th>65</th>\n",
       "      <td>1F43E</td>\n",
       "      <td>fully-qualified</td>\n",
       "      <td>🐾</td>\n",
       "      <td>paw prints</td>\n",
       "      <td>Animals &amp; Nature</td>\n",
       "      <td>animal-mammal</td>\n",
       "    </tr>\n",
       "  </tbody>\n",
       "</table>\n",
       "<p>66 rows × 6 columns</p>\n",
       "</div>"
      ],
      "text/plain": [
       "   codepoint           status emoji         name             group  \\\n",
       "0      1F435  fully-qualified     🐵  monkey face  Animals & Nature   \n",
       "1      1F412  fully-qualified     🐒       monkey  Animals & Nature   \n",
       "2      1F98D  fully-qualified     🦍      gorilla  Animals & Nature   \n",
       "3      1F9A7  fully-qualified     🦧    orangutan  Animals & Nature   \n",
       "4      1F436  fully-qualified     🐶     dog face  Animals & Nature   \n",
       "..       ...              ...   ...          ...               ...   \n",
       "61     1F9A6  fully-qualified     🦦        otter  Animals & Nature   \n",
       "62     1F9A8  fully-qualified     🦨        skunk  Animals & Nature   \n",
       "63     1F998  fully-qualified     🦘     kangaroo  Animals & Nature   \n",
       "64     1F9A1  fully-qualified     🦡       badger  Animals & Nature   \n",
       "65     1F43E  fully-qualified     🐾   paw prints  Animals & Nature   \n",
       "\n",
       "        sub_group  \n",
       "0   animal-mammal  \n",
       "1   animal-mammal  \n",
       "2   animal-mammal  \n",
       "3   animal-mammal  \n",
       "4   animal-mammal  \n",
       "..            ...  \n",
       "61  animal-mammal  \n",
       "62  animal-mammal  \n",
       "63  animal-mammal  \n",
       "64  animal-mammal  \n",
       "65  animal-mammal  \n",
       "\n",
       "[66 rows x 6 columns]"
      ]
     },
     "execution_count": 32,
     "metadata": {},
     "output_type": "execute_result"
    }
   ],
   "source": [
    "animal_mammal_emoji = adv.emoji_search('animal-mammal')\n",
    "animal_mammal_emoji"
   ]
  },
  {
   "cell_type": "code",
   "execution_count": 33,
   "metadata": {},
   "outputs": [
    {
     "data": {
      "text/html": [
       "<div>\n",
       "<style scoped>\n",
       "    .dataframe tbody tr th:only-of-type {\n",
       "        vertical-align: middle;\n",
       "    }\n",
       "\n",
       "    .dataframe tbody tr th {\n",
       "        vertical-align: top;\n",
       "    }\n",
       "\n",
       "    .dataframe thead th {\n",
       "        text-align: right;\n",
       "    }\n",
       "</style>\n",
       "<table border=\"1\" class=\"dataframe\">\n",
       "  <thead>\n",
       "    <tr style=\"text-align: right;\">\n",
       "      <th></th>\n",
       "      <th>codepoint</th>\n",
       "      <th>status</th>\n",
       "      <th>emoji</th>\n",
       "      <th>name</th>\n",
       "      <th>group</th>\n",
       "      <th>sub_group</th>\n",
       "    </tr>\n",
       "  </thead>\n",
       "  <tbody>\n",
       "    <tr>\n",
       "      <th>0</th>\n",
       "      <td>1F49A</td>\n",
       "      <td>fully-qualified</td>\n",
       "      <td>💚</td>\n",
       "      <td>green heart</td>\n",
       "      <td>Smileys &amp; Emotion</td>\n",
       "      <td>emotion</td>\n",
       "    </tr>\n",
       "    <tr>\n",
       "      <th>1</th>\n",
       "      <td>1F332</td>\n",
       "      <td>fully-qualified</td>\n",
       "      <td>🌲</td>\n",
       "      <td>evergreen tree</td>\n",
       "      <td>Animals &amp; Nature</td>\n",
       "      <td>plant-other</td>\n",
       "    </tr>\n",
       "    <tr>\n",
       "      <th>2</th>\n",
       "      <td>1F34F</td>\n",
       "      <td>fully-qualified</td>\n",
       "      <td>🍏</td>\n",
       "      <td>green apple</td>\n",
       "      <td>Food &amp; Drink</td>\n",
       "      <td>food-fruit</td>\n",
       "    </tr>\n",
       "    <tr>\n",
       "      <th>3</th>\n",
       "      <td>1F96C</td>\n",
       "      <td>fully-qualified</td>\n",
       "      <td>🥬</td>\n",
       "      <td>leafy green</td>\n",
       "      <td>Food &amp; Drink</td>\n",
       "      <td>food-vegetable</td>\n",
       "    </tr>\n",
       "    <tr>\n",
       "      <th>4</th>\n",
       "      <td>1F957</td>\n",
       "      <td>fully-qualified</td>\n",
       "      <td>🥗</td>\n",
       "      <td>green salad</td>\n",
       "      <td>Food &amp; Drink</td>\n",
       "      <td>food-prepared</td>\n",
       "    </tr>\n",
       "    <tr>\n",
       "      <th>5</th>\n",
       "      <td>1F4D7</td>\n",
       "      <td>fully-qualified</td>\n",
       "      <td>📗</td>\n",
       "      <td>green book</td>\n",
       "      <td>Objects</td>\n",
       "      <td>book-paper</td>\n",
       "    </tr>\n",
       "    <tr>\n",
       "      <th>6</th>\n",
       "      <td>1F7E2</td>\n",
       "      <td>fully-qualified</td>\n",
       "      <td>🟢</td>\n",
       "      <td>green circle</td>\n",
       "      <td>Symbols</td>\n",
       "      <td>geometric</td>\n",
       "    </tr>\n",
       "    <tr>\n",
       "      <th>7</th>\n",
       "      <td>1F7E9</td>\n",
       "      <td>fully-qualified</td>\n",
       "      <td>🟩</td>\n",
       "      <td>green square</td>\n",
       "      <td>Symbols</td>\n",
       "      <td>geometric</td>\n",
       "    </tr>\n",
       "    <tr>\n",
       "      <th>8</th>\n",
       "      <td>1F1EC 1F1F1</td>\n",
       "      <td>fully-qualified</td>\n",
       "      <td>🇬🇱</td>\n",
       "      <td>flag: Greenland</td>\n",
       "      <td>Flags</td>\n",
       "      <td>country-flag</td>\n",
       "    </tr>\n",
       "  </tbody>\n",
       "</table>\n",
       "</div>"
      ],
      "text/plain": [
       "     codepoint           status emoji             name              group  \\\n",
       "0        1F49A  fully-qualified     💚      green heart  Smileys & Emotion   \n",
       "1        1F332  fully-qualified     🌲   evergreen tree   Animals & Nature   \n",
       "2        1F34F  fully-qualified     🍏      green apple       Food & Drink   \n",
       "3        1F96C  fully-qualified     🥬      leafy green       Food & Drink   \n",
       "4        1F957  fully-qualified     🥗      green salad       Food & Drink   \n",
       "5        1F4D7  fully-qualified     📗       green book            Objects   \n",
       "6        1F7E2  fully-qualified     🟢     green circle            Symbols   \n",
       "7        1F7E9  fully-qualified     🟩     green square            Symbols   \n",
       "8  1F1EC 1F1F1  fully-qualified    🇬🇱  flag: Greenland              Flags   \n",
       "\n",
       "        sub_group  \n",
       "0         emotion  \n",
       "1     plant-other  \n",
       "2      food-fruit  \n",
       "3  food-vegetable  \n",
       "4   food-prepared  \n",
       "5      book-paper  \n",
       "6       geometric  \n",
       "7       geometric  \n",
       "8    country-flag  "
      ]
     },
     "execution_count": 33,
     "metadata": {},
     "output_type": "execute_result"
    }
   ],
   "source": [
    "green_emoji = adv.emoji_search('green')\n",
    "green_emoji"
   ]
  },
  {
   "cell_type": "markdown",
   "metadata": {},
   "source": [
    "### Extract Emojis From Text"
   ]
  },
  {
   "cell_type": "code",
   "execution_count": 34,
   "metadata": {},
   "outputs": [
    {
     "name": "stdout",
     "output_type": "stream",
     "text": [
      "dict_keys(['emoji', 'emoji_text', 'emoji_flat', 'emoji_flat_text', 'emoji_counts', 'emoji_freq', 'top_emoji', 'top_emoji_text', 'top_emoji_groups', 'top_emoji_sub_groups', 'overview'])\n"
     ]
    }
   ],
   "source": [
    "posts = ['I feel like playing basketball 🏀',\n",
    "             'I like playing football ⚽⚽',\n",
    "             'Not feeling like sports today 😴']\n",
    "\n",
    "emoji_summary = adv.extract_emoji(posts)\n",
    "print(emoji_summary.keys())"
   ]
  },
  {
   "cell_type": "code",
   "execution_count": 35,
   "metadata": {},
   "outputs": [
    {
     "data": {
      "text/plain": [
       "[['🏀'], ['⚽', '⚽'], ['😴']]"
      ]
     },
     "execution_count": 35,
     "metadata": {},
     "output_type": "execute_result"
    }
   ],
   "source": [
    "emoji_summary = adv.extract_emoji(posts) ## it returns a dictionary with various stats about emoji\n",
    "emoji_summary['emoji']"
   ]
  },
  {
   "cell_type": "code",
   "execution_count": 36,
   "metadata": {},
   "outputs": [
    {
     "data": {
      "text/plain": [
       "[['basketball'], ['soccer ball', 'soccer ball'], ['sleeping face']]"
      ]
     },
     "execution_count": 36,
     "metadata": {},
     "output_type": "execute_result"
    }
   ],
   "source": [
    "emoji_summary['emoji_text']"
   ]
  },
  {
   "cell_type": "code",
   "execution_count": 37,
   "metadata": {},
   "outputs": [
    {
     "data": {
      "text/plain": [
       "['🏀', '⚽', '⚽', '😴']"
      ]
     },
     "execution_count": 37,
     "metadata": {},
     "output_type": "execute_result"
    }
   ],
   "source": [
    "emoji_summary['emoji_flat']"
   ]
  },
  {
   "cell_type": "code",
   "execution_count": 38,
   "metadata": {},
   "outputs": [
    {
     "data": {
      "text/plain": [
       "[1, 2, 1]"
      ]
     },
     "execution_count": 38,
     "metadata": {},
     "output_type": "execute_result"
    }
   ],
   "source": [
    "emoji_summary['emoji_counts']"
   ]
  },
  {
   "cell_type": "code",
   "execution_count": 39,
   "metadata": {},
   "outputs": [
    {
     "data": {
      "text/plain": [
       "[(1, 2), (2, 1)]"
      ]
     },
     "execution_count": 39,
     "metadata": {},
     "output_type": "execute_result"
    }
   ],
   "source": [
    "emoji_summary['emoji_freq'] ## The count of emoji per post."
   ]
  },
  {
   "cell_type": "code",
   "execution_count": 40,
   "metadata": {},
   "outputs": [
    {
     "data": {
      "text/plain": [
       "[('⚽', 2), ('🏀', 1), ('😴', 1)]"
      ]
     },
     "execution_count": 40,
     "metadata": {},
     "output_type": "execute_result"
    }
   ],
   "source": [
    "emoji_summary['top_emoji']"
   ]
  },
  {
   "cell_type": "code",
   "execution_count": 41,
   "metadata": {},
   "outputs": [
    {
     "data": {
      "text/plain": [
       "[('Activities', 3), ('Smileys & Emotion', 1)]"
      ]
     },
     "execution_count": 41,
     "metadata": {},
     "output_type": "execute_result"
    }
   ],
   "source": [
    "emoji_summary['top_emoji_groups']"
   ]
  },
  {
   "cell_type": "code",
   "execution_count": 42,
   "metadata": {},
   "outputs": [
    {
     "data": {
      "text/plain": [
       "[('sport', 3), ('face-sleepy', 1)]"
      ]
     },
     "execution_count": 42,
     "metadata": {},
     "output_type": "execute_result"
    }
   ],
   "source": [
    "emoji_summary['top_emoji_sub_groups']"
   ]
  },
  {
   "cell_type": "code",
   "execution_count": 43,
   "metadata": {},
   "outputs": [
    {
     "data": {
      "text/plain": [
       "{'num_posts': 3,\n",
       " 'num_emoji': 4,\n",
       " 'emoji_per_post': 1.3333333333333333,\n",
       " 'unique_emoji': 3}"
      ]
     },
     "execution_count": 43,
     "metadata": {},
     "output_type": "execute_result"
    }
   ],
   "source": [
    "emoji_summary['overview']"
   ]
  },
  {
   "cell_type": "markdown",
   "metadata": {},
   "source": [
    "-------------------------------------------------"
   ]
  },
  {
   "cell_type": "markdown",
   "metadata": {},
   "source": [
    "### Package: Emoji https://pypi.org/project/emoji/"
   ]
  },
  {
   "cell_type": "code",
   "execution_count": 44,
   "metadata": {},
   "outputs": [
    {
     "name": "stdout",
     "output_type": "stream",
     "text": [
      "👍\n",
      "👍\n",
      "👍\n",
      ":thumbs_up:\n"
     ]
    }
   ],
   "source": [
    "## List of all emojis in the emoji python package : https://carpedm20.github.io/emoji/\n",
    "#!pip install emoji\n",
    "import emoji\n",
    "print(emoji.emojize(':thumbs_up:'))\n",
    "\n",
    "## working with emoji description in various languages\n",
    "print(emoji.emojize(':thumbsup:', language='alias'))\n",
    "print(emoji.emojize(':polegar_para_cima:', language='pt'))\n",
    "print(emoji.demojize('👍'))\n"
   ]
  },
  {
   "cell_type": "markdown",
   "metadata": {},
   "source": [
    "### Package: demoji #https://pypi.org/project/demoji/"
   ]
  },
  {
   "cell_type": "code",
   "execution_count": 45,
   "metadata": {},
   "outputs": [
    {
     "name": "stderr",
     "output_type": "stream",
     "text": [
      "/var/folders/ff/fc79q_ns7sl2lt008fvhl1f80000gn/T/ipykernel_10787/3058649683.py:3: FutureWarning: The demoji.download_codes attribute is deprecated and will be removed from demoji in a future version. It is an unused attribute as emoji codes are now distributed directly with the demoji package.\n",
      "  demoji.download_codes()\n"
     ]
    }
   ],
   "source": [
    "#!pip install demoji\n",
    "import demoji\n",
    "demoji.download_codes()"
   ]
  },
  {
   "cell_type": "code",
   "execution_count": 46,
   "metadata": {},
   "outputs": [
    {
     "data": {
      "text/plain": [
       "{'☀️': 'sun',\n",
       " '🔥': 'fire',\n",
       " '👍': 'thumbs up',\n",
       " '🍫': 'chocolate bar',\n",
       " '😴': 'sleeping face',\n",
       " '🦠': 'microbe',\n",
       " '🚴\\u200d♀️': 'woman biking',\n",
       " '🥳': 'partying face',\n",
       " '👍🏾': 'thumbs up: medium-dark skin tone',\n",
       " '🧿': 'nazar amulet',\n",
       " '👿': 'angry face with horns',\n",
       " '🤮': 'face vomiting',\n",
       " '😿': 'crying cat'}"
      ]
     },
     "execution_count": 46,
     "metadata": {},
     "output_type": "execute_result"
    }
   ],
   "source": [
    "emoji_list= \"😴 🥳 🍫 👍🏾 👍 👍🤮👿😿☀️🔥🚴‍♀️🧿🦠\"\n",
    "demoji.findall(emoji_list)"
   ]
  },
  {
   "cell_type": "code",
   "execution_count": 55,
   "metadata": {},
   "outputs": [
    {
     "data": {
      "text/html": [
       "<div>\n",
       "<style scoped>\n",
       "    .dataframe tbody tr th:only-of-type {\n",
       "        vertical-align: middle;\n",
       "    }\n",
       "\n",
       "    .dataframe tbody tr th {\n",
       "        vertical-align: top;\n",
       "    }\n",
       "\n",
       "    .dataframe thead th {\n",
       "        text-align: right;\n",
       "    }\n",
       "</style>\n",
       "<table border=\"1\" class=\"dataframe\">\n",
       "  <thead>\n",
       "    <tr style=\"text-align: right;\">\n",
       "      <th></th>\n",
       "      <th>case_id</th>\n",
       "      <th>templ_id</th>\n",
       "      <th>test_group_id</th>\n",
       "      <th>text</th>\n",
       "      <th>target</th>\n",
       "      <th>functionality</th>\n",
       "      <th>set</th>\n",
       "      <th>label_gold</th>\n",
       "      <th>unrealistic_flags</th>\n",
       "      <th>included_in_test_suite</th>\n",
       "    </tr>\n",
       "  </thead>\n",
       "  <tbody>\n",
       "    <tr>\n",
       "      <th>0</th>\n",
       "      <td>0</td>\n",
       "      <td>1.0</td>\n",
       "      <td>1</td>\n",
       "      <td>I want to 🔪 all women</td>\n",
       "      <td>women</td>\n",
       "      <td>verb_swap</td>\n",
       "      <td>orig</td>\n",
       "      <td>1</td>\n",
       "      <td>0</td>\n",
       "      <td>1</td>\n",
       "    </tr>\n",
       "    <tr>\n",
       "      <th>1</th>\n",
       "      <td>1</td>\n",
       "      <td>1.0</td>\n",
       "      <td>1</td>\n",
       "      <td>I want to 💣 all women</td>\n",
       "      <td>women</td>\n",
       "      <td>verb_swap</td>\n",
       "      <td>orig</td>\n",
       "      <td>1</td>\n",
       "      <td>0</td>\n",
       "      <td>1</td>\n",
       "    </tr>\n",
       "    <tr>\n",
       "      <th>2</th>\n",
       "      <td>2</td>\n",
       "      <td>1.0</td>\n",
       "      <td>1</td>\n",
       "      <td>I want to 👊 all women</td>\n",
       "      <td>women</td>\n",
       "      <td>verb_swap</td>\n",
       "      <td>orig</td>\n",
       "      <td>1</td>\n",
       "      <td>0</td>\n",
       "      <td>1</td>\n",
       "    </tr>\n",
       "    <tr>\n",
       "      <th>3</th>\n",
       "      <td>3</td>\n",
       "      <td>1.0</td>\n",
       "      <td>1</td>\n",
       "      <td>I want to 🔫 all women</td>\n",
       "      <td>women</td>\n",
       "      <td>verb_swap</td>\n",
       "      <td>orig</td>\n",
       "      <td>1</td>\n",
       "      <td>0</td>\n",
       "      <td>1</td>\n",
       "    </tr>\n",
       "    <tr>\n",
       "      <th>4</th>\n",
       "      <td>4</td>\n",
       "      <td>1.0</td>\n",
       "      <td>1</td>\n",
       "      <td>I want to 💀 all women</td>\n",
       "      <td>women</td>\n",
       "      <td>verb_swap</td>\n",
       "      <td>orig</td>\n",
       "      <td>1</td>\n",
       "      <td>0</td>\n",
       "      <td>1</td>\n",
       "    </tr>\n",
       "    <tr>\n",
       "      <th>...</th>\n",
       "      <td>...</td>\n",
       "      <td>...</td>\n",
       "      <td>...</td>\n",
       "      <td>...</td>\n",
       "      <td>...</td>\n",
       "      <td>...</td>\n",
       "      <td>...</td>\n",
       "      <td>...</td>\n",
       "      <td>...</td>\n",
       "      <td>...</td>\n",
       "    </tr>\n",
       "    <tr>\n",
       "      <th>3925</th>\n",
       "      <td>3925</td>\n",
       "      <td>83.3</td>\n",
       "      <td>83</td>\n",
       "      <td>Too many tr4ns people in my university</td>\n",
       "      <td>trans people</td>\n",
       "      <td>emoji_leetspeak</td>\n",
       "      <td>no_emoji_perturb</td>\n",
       "      <td>1</td>\n",
       "      <td>0</td>\n",
       "      <td>1</td>\n",
       "    </tr>\n",
       "    <tr>\n",
       "      <th>3926</th>\n",
       "      <td>3926</td>\n",
       "      <td>83.3</td>\n",
       "      <td>83</td>\n",
       "      <td>Too many g4y people in my university</td>\n",
       "      <td>gay people</td>\n",
       "      <td>emoji_leetspeak</td>\n",
       "      <td>no_emoji_perturb</td>\n",
       "      <td>1</td>\n",
       "      <td>0</td>\n",
       "      <td>1</td>\n",
       "    </tr>\n",
       "    <tr>\n",
       "      <th>3927</th>\n",
       "      <td>3927</td>\n",
       "      <td>83.3</td>\n",
       "      <td>83</td>\n",
       "      <td>Too many bl4ck people in my university</td>\n",
       "      <td>black people</td>\n",
       "      <td>emoji_leetspeak</td>\n",
       "      <td>no_emoji_perturb</td>\n",
       "      <td>1</td>\n",
       "      <td>0</td>\n",
       "      <td>1</td>\n",
       "    </tr>\n",
       "    <tr>\n",
       "      <th>3928</th>\n",
       "      <td>3928</td>\n",
       "      <td>83.3</td>\n",
       "      <td>83</td>\n",
       "      <td>Too many disabl3d people in my university</td>\n",
       "      <td>disabled people</td>\n",
       "      <td>emoji_leetspeak</td>\n",
       "      <td>no_emoji_perturb</td>\n",
       "      <td>1</td>\n",
       "      <td>0</td>\n",
       "      <td>1</td>\n",
       "    </tr>\n",
       "    <tr>\n",
       "      <th>3929</th>\n",
       "      <td>3929</td>\n",
       "      <td>83.3</td>\n",
       "      <td>83</td>\n",
       "      <td>Too many Musl1ms in my university</td>\n",
       "      <td>Muslims</td>\n",
       "      <td>emoji_leetspeak</td>\n",
       "      <td>no_emoji_perturb</td>\n",
       "      <td>1</td>\n",
       "      <td>0</td>\n",
       "      <td>1</td>\n",
       "    </tr>\n",
       "  </tbody>\n",
       "</table>\n",
       "<p>3930 rows × 10 columns</p>\n",
       "</div>"
      ],
      "text/plain": [
       "      case_id  templ_id  test_group_id  \\\n",
       "0           0       1.0              1   \n",
       "1           1       1.0              1   \n",
       "2           2       1.0              1   \n",
       "3           3       1.0              1   \n",
       "4           4       1.0              1   \n",
       "...       ...       ...            ...   \n",
       "3925     3925      83.3             83   \n",
       "3926     3926      83.3             83   \n",
       "3927     3927      83.3             83   \n",
       "3928     3928      83.3             83   \n",
       "3929     3929      83.3             83   \n",
       "\n",
       "                                           text           target  \\\n",
       "0                         I want to 🔪 all women            women   \n",
       "1                         I want to 💣 all women            women   \n",
       "2                         I want to 👊 all women            women   \n",
       "3                         I want to 🔫 all women            women   \n",
       "4                         I want to 💀 all women            women   \n",
       "...                                         ...              ...   \n",
       "3925     Too many tr4ns people in my university     trans people   \n",
       "3926       Too many g4y people in my university       gay people   \n",
       "3927     Too many bl4ck people in my university     black people   \n",
       "3928  Too many disabl3d people in my university  disabled people   \n",
       "3929          Too many Musl1ms in my university          Muslims   \n",
       "\n",
       "        functionality               set  label_gold  unrealistic_flags  \\\n",
       "0           verb_swap              orig           1                  0   \n",
       "1           verb_swap              orig           1                  0   \n",
       "2           verb_swap              orig           1                  0   \n",
       "3           verb_swap              orig           1                  0   \n",
       "4           verb_swap              orig           1                  0   \n",
       "...               ...               ...         ...                ...   \n",
       "3925  emoji_leetspeak  no_emoji_perturb           1                  0   \n",
       "3926  emoji_leetspeak  no_emoji_perturb           1                  0   \n",
       "3927  emoji_leetspeak  no_emoji_perturb           1                  0   \n",
       "3928  emoji_leetspeak  no_emoji_perturb           1                  0   \n",
       "3929  emoji_leetspeak  no_emoji_perturb           1                  0   \n",
       "\n",
       "      included_in_test_suite  \n",
       "0                          1  \n",
       "1                          1  \n",
       "2                          1  \n",
       "3                          1  \n",
       "4                          1  \n",
       "...                      ...  \n",
       "3925                       1  \n",
       "3926                       1  \n",
       "3927                       1  \n",
       "3928                       1  \n",
       "3929                       1  \n",
       "\n",
       "[3930 rows x 10 columns]"
      ]
     },
     "execution_count": 55,
     "metadata": {},
     "output_type": "execute_result"
    }
   ],
   "source": [
    "### Now if you want to have some hands-on experience, you can play with \n",
    "#### another HateCheck functional benchmark dataset that has a partcular focus on hate speech and emojis\n",
    "hatecheck_emoji_df= pd.read_csv('hateemoji_hatecheck_test.csv')\n",
    "hatecheck_emoji_df"
   ]
  },
  {
   "cell_type": "markdown",
   "metadata": {},
   "source": []
  },
  {
   "cell_type": "markdown",
   "metadata": {},
   "source": [
    "------------------------------------"
   ]
  },
  {
   "cell_type": "markdown",
   "metadata": {},
   "source": [
    "### Hashtag/Compound Word Splitter: Method 1: Dictionary Based Approach"
   ]
  },
  {
   "cell_type": "code",
   "execution_count": 23,
   "metadata": {},
   "outputs": [
    {
     "data": {
      "text/plain": [
       "[['edge', 'of', 'entertainment']]"
      ]
     },
     "execution_count": 23,
     "metadata": {},
     "output_type": "execute_result"
    }
   ],
   "source": [
    "### source: https://github.com/matchado/HashTagSplitter/blob/master/split_hashtags.py\n",
    "import nltk\n",
    "from nltk.corpus import words, brown\n",
    "\n",
    "word_dictionary = list(set(words.words()))\n",
    "\n",
    "for alphabet in \"bcdefghjklmnopqrstuvwxyz\":\n",
    "\tword_dictionary.remove(alphabet)\n",
    "\n",
    "def split_hashtag_to_words_all_possibilities(hashtag):\n",
    "\tall_possibilities = []\n",
    "\t\n",
    "\tsplit_posibility = [hashtag[:i] in word_dictionary for i in reversed(range(len(hashtag)+1))]\n",
    "\tpossible_split_positions = [i for i, x in enumerate(split_posibility) if x == True]\n",
    "\t\n",
    "\tfor split_pos in possible_split_positions:\n",
    "\t\tsplit_words = []\n",
    "\t\tword_1, word_2 = hashtag[:len(hashtag)-split_pos], hashtag[len(hashtag)-split_pos:]\n",
    "\t\t\n",
    "\t\tif word_2 in word_dictionary:\n",
    "\t\t\tsplit_words.append(word_1)\n",
    "\t\t\tsplit_words.append(word_2)\n",
    "\t\t\tall_possibilities.append(split_words)\n",
    "\n",
    "\t\t\tanother_round = split_hashtag_to_words_all_possibilities(word_2)\n",
    "\t\t\t\t\n",
    "\t\t\tif len(another_round) > 0:\n",
    "\t\t\t\tall_possibilities = all_possibilities + [[a1] + a2 for a1, a2, in zip([word_1]*len(another_round), another_round)]\n",
    "\t\telse:\n",
    "\t\t\tanother_round = split_hashtag_to_words_all_possibilities(word_2)\n",
    "\t\t\t\n",
    "\t\t\tif len(another_round) > 0:\n",
    "\t\t\t\tall_possibilities = all_possibilities + [[a1] + a2 for a1, a2, in zip([word_1]*len(another_round), another_round)]\n",
    "\t\n",
    "\treturn all_possibilities\n",
    "\n",
    "split_hashtag_to_words_all_possibilities(\"edgeofentertainment\")"
   ]
  },
  {
   "cell_type": "code",
   "execution_count": 24,
   "metadata": {},
   "outputs": [
    {
     "data": {
      "text/plain": [
       "[['data', 'science'], ['da', 'ta', 'science']]"
      ]
     },
     "execution_count": 24,
     "metadata": {},
     "output_type": "execute_result"
    }
   ],
   "source": [
    "split_hashtag_to_words_all_possibilities(\"datascience\")"
   ]
  },
  {
   "cell_type": "markdown",
   "metadata": {},
   "source": [
    "### Hashtag/Compound Word Splitter:  N-gram Based Pyton Library (English)\n",
    "\n",
    "Note: you can also provide any other language model in any language, and train the wordninja module and use it!"
   ]
  },
  {
   "cell_type": "code",
   "execution_count": 27,
   "metadata": {},
   "outputs": [
    {
     "name": "stdout",
     "output_type": "stream",
     "text": [
      "['edge', 'of', 'entertainment']\n",
      "['data', 'science']\n",
      "['art', 'factory']\n",
      "['google', 'doodle']\n"
     ]
    }
   ],
   "source": [
    "#!pip install wordninja\n",
    "import wordninja #https://github.com/keredson/wordninja\n",
    "print(wordninja.split(\"edgeofentertainment\"))\n",
    "print(wordninja.split('datascience'))\n",
    "print(wordninja.split('artfactory'))\n",
    "print(wordninja.split('googledoodle'))\n"
   ]
  }
 ],
 "metadata": {
  "kernelspec": {
   "display_name": "Python 3.9.12 ('base')",
   "language": "python",
   "name": "python3"
  },
  "language_info": {
   "codemirror_mode": {
    "name": "ipython",
    "version": 3
   },
   "file_extension": ".py",
   "mimetype": "text/x-python",
   "name": "python",
   "nbconvert_exporter": "python",
   "pygments_lexer": "ipython3",
   "version": "3.9.12"
  },
  "vscode": {
   "interpreter": {
    "hash": "8cdb6f48ad7023a573f3b4ac02d894012f19afa4ab0de793319e6ac228b4d09b"
   }
  }
 },
 "nbformat": 4,
 "nbformat_minor": 4
}
